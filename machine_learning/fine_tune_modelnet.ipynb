{
 "cells": [
  {
   "cell_type": "code",
   "execution_count": 1,
   "metadata": {},
   "outputs": [],
   "source": [
    "import os, cv2\n",
    "os.environ['CUDA_DEVICE_ORDER']='PCI_BUS_ID'\n",
    "os.environ['CUDA_VISIBLE_DEVICES']='0'\n",
    "\n",
    "import numpy as np\n",
    "import pandas as pd\n",
    "\n",
    "from PIL import Image\n",
    "from ohia.utils import predict_lr\n",
    "\n",
    "from sklearn.model_selection import StratifiedKFold\n",
    "from statsmodels.distributions.empirical_distribution import ECDF"
   ]
  },
  {
   "cell_type": "code",
   "execution_count": null,
   "metadata": {},
   "outputs": [],
   "source": [
    "def transform_to_square(img, size=224):\n",
    "    \n",
    "    # width > height\n",
    "    if img.size[0] > img.size[1]: \n",
    "        w = round(size * img.size[0]/img.size[1])\n",
    "        c = round(w//2 - np.random.uniform(-1, 1, 1)[0] * (w - size)//2)\n",
    "        img = img.resize((w, size), resample=Image.LANCZOS)\n",
    "        img = img.crop((c-size//2, 0, c+size//2, size))\n",
    "\n",
    "    # height > width\n",
    "    else: \n",
    "        h = round(size * img.size[1]/img.size[0])\n",
    "        c = round(h//2 - np.random.uniform(-1, 1, 1)[0] * (h - size)//2)    \n",
    "        img = img.resize((size, h), resample=Image.LANCZOS)\n",
    "        img = img.crop((0, c-size//2, size, c+size//2))\n",
    "    \n",
    "    return img "
   ]
  },
  {
   "cell_type": "code",
   "execution_count": null,
   "metadata": {},
   "outputs": [],
   "source": []
  },
  {
   "cell_type": "code",
   "execution_count": 2,
   "metadata": {},
   "outputs": [],
   "source": [
    "# Set parameters\n",
    "MACHINE = 'matt'\n",
    "FILE_PATH = '/home/matt/Dropbox/HACC 2018 Data/images'"
   ]
  },
  {
   "cell_type": "code",
   "execution_count": 3,
   "metadata": {},
   "outputs": [],
   "source": [
    "file_list = [os.path.join(dp, f) for dp, dn, filenames in os.walk(FILE_PATH) for f in filenames if os.path.splitext(f)[1] == '.jpg']"
   ]
  },
  {
   "cell_type": "code",
   "execution_count": 16,
   "metadata": {},
   "outputs": [
    {
     "data": {
      "text/plain": [
       "PIL.JpegImagePlugin.JpegImageFile"
      ]
     },
     "execution_count": 16,
     "metadata": {},
     "output_type": "execute_result"
    }
   ],
   "source": [
    "type(Image.open(file_list[1]))"
   ]
  },
  {
   "cell_type": "code",
   "execution_count": null,
   "metadata": {},
   "outputs": [],
   "source": [
    "def resize_smaller_dim(img, dim=224):\n",
    "    \n",
    "    # width > height\n",
    "    if img.size[0] > img.size[1]: \n",
    "        w = round(dim * img.size[0]/img.size[1])\n",
    "        img = img.resize((w, dim), resample=Image.LANCZOS)\n",
    "\n",
    "    # height > width\n",
    "    else: \n",
    "        h = round(dim * img.size[1]/img.size[0])\n",
    "        img = img.resize((dim, h), resample=Image.LANCZOS)\n",
    "    \n",
    "    return img\n",
    "\n",
    "def (img):\n",
    "    \n",
    "    # width > height\n",
    "    if img.size[0] > img.size[1]: \n",
    "        d = dim = img.size[1]\n",
    "        c = round(w//2 - np.random.uniform(-1, 1, 1)[0] * (w//2 - 112))\n",
    "        img = img.crop((c-112, 0, c+112, 224))\n",
    "        \n",
    "    # height > width\n",
    "    else:\n",
    "        d = dim = img.size[0]\n",
    "        c = round(h//2 - np.random.uniform(-1, 1, 1)[0] * (h//2 - 112))    \n",
    "        img = img.crop((0, c-112, 224, c+112))\n",
    "        \n",
    "    return img"
   ]
  },
  {
   "cell_type": "code",
   "execution_count": null,
   "metadata": {},
   "outputs": [],
   "source": [
    "class PlantNetSequence(keras.utils.Sequence):\n",
    "    \n",
    "    def __init__(self, image_ids, batch_size):\n",
    "        self.image_ids = image_ids\n",
    "        self.batch_size = batch_size\n",
    "        \n",
    "    def __len__(self):\n",
    "        return int(np.ceil(len(self.image_ids) / float(self.batch_size)))\n",
    "    \n",
    "    def __getitem__(self, idx):\n",
    "        batch_x = self.x[idx * self.batch_size:(idx + 1) * self.batch_size]\n",
    "        batch_y = self.y[idx * self.batch_size:(idx + 1) * self.batch_size]\n",
    "        return np.array([\n",
    "            resize(imread(file_name), (200, 200))\n",
    "               for file_name in batch_x]), np.array(batch_y)"
   ]
  },
  {
   "cell_type": "code",
   "execution_count": null,
   "metadata": {},
   "outputs": [],
   "source": [
    "# create generator\n",
    "import numpy as np\n",
    "import keras\n",
    "\n",
    "class DataGenerator(keras.utils.Sequence):\n",
    "    'Generates data for Keras'\n",
    "    def __init__(self, list_IDs, labels, batch_size=32, dim=(224,224), n_channels=3,\n",
    "                 n_classes=10, shuffle=True):\n",
    "        'Initialization'\n",
    "        self.dim = dim\n",
    "        self.batch_size = batch_size\n",
    "        self.labels = labels\n",
    "        self.list_IDs = list_IDs\n",
    "        self.n_channels = n_channels\n",
    "        self.n_classes = n_classes\n",
    "        self.shuffle = shuffle\n",
    "        self.on_epoch_end()\n",
    "\n",
    "    def __len__(self):\n",
    "        return int(np.floor(len(self.list_IDs) / self.batch_size))\n",
    "\n",
    "    def __getitem__(self, index):\n",
    "        'Generate one batch of data'\n",
    "        # Generate indexes of the batch\n",
    "        indexes = self.indexes[index*self.batch_size:(index+1)*self.batch_size]\n",
    "\n",
    "        # Find list of IDs\n",
    "        list_IDs_temp = [self.list_IDs[k] for k in indexes]\n",
    "\n",
    "        # Generate data\n",
    "        X, y = self.__data_generation(list_IDs_temp)\n",
    "\n",
    "        return X, y\n",
    "\n",
    "    def on_epoch_end(self):\n",
    "        'Updates indexes after each epoch'\n",
    "        self.indexes = np.arange(len(self.list_IDs))\n",
    "        if self.shuffle == True:\n",
    "            np.random.shuffle(self.indexes)\n",
    "\n",
    "    def __data_generation(self, list_IDs_temp):\n",
    "        'Generates data containing batch_size samples' # X : (n_samples, *dim, n_channels)\n",
    "        # Initialization\n",
    "        X = np.empty((self.batch_size, *self.dim, self.n_channels))\n",
    "        y = np.empty((self.batch_size), dtype=int)\n",
    "\n",
    "        # Generate data\n",
    "        for i, ID in enumerate(list_IDs_temp):\n",
    "            # Store sample\n",
    "            X[i,] = np.load('data/' + ID + '.npy')\n",
    "\n",
    "            # Store class\n",
    "            y[i] = self.labels[ID]\n",
    "\n",
    "        return X, keras.utils.to_categorical(y, num_classes=self.n_classes)"
   ]
  },
  {
   "cell_type": "code",
   "execution_count": null,
   "metadata": {},
   "outputs": [],
   "source": [
    "# load model"
   ]
  },
  {
   "cell_type": "code",
   "execution_count": null,
   "metadata": {},
   "outputs": [],
   "source": [
    "# train model"
   ]
  },
  {
   "cell_type": "code",
   "execution_count": null,
   "metadata": {},
   "outputs": [],
   "source": [
    "# make predictions"
   ]
  },
  {
   "cell_type": "code",
   "execution_count": null,
   "metadata": {},
   "outputs": [],
   "source": [
    "# save model"
   ]
  },
  {
   "cell_type": "code",
   "execution_count": null,
   "metadata": {},
   "outputs": [],
   "source": [
    "# Set some parameters\n",
    "MACHINE = 'matt'\n",
    "version = 'kernelnet-3a'\n",
    "\n",
    "n_folds = 4\n",
    "batch_size = 64\n",
    "dropout_rate = 0.25\n",
    "start_neurons = 35\n",
    "\n",
    "cycle_len = 50\n",
    "n_epochs = 300\n",
    "n_cycles = n_epochs//cycle_len \n",
    "\n",
    "PRETRAINED_FILE = 'kernelnet-3c-588559_params-64-35-0.25_cycle_len-5_stage-2-10'"
   ]
  },
  {
   "cell_type": "code",
   "execution_count": null,
   "metadata": {},
   "outputs": [],
   "source": []
  }
 ],
 "metadata": {
  "kernelspec": {
   "display_name": "Python [conda env:kaggle]",
   "language": "python",
   "name": "conda-env-kaggle-py"
  },
  "language_info": {
   "codemirror_mode": {
    "name": "ipython",
    "version": 3
   },
   "file_extension": ".py",
   "mimetype": "text/x-python",
   "name": "python",
   "nbconvert_exporter": "python",
   "pygments_lexer": "ipython3",
   "version": "3.6.6"
  }
 },
 "nbformat": 4,
 "nbformat_minor": 2
}
