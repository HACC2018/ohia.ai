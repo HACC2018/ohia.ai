{
 "cells": [
  {
   "cell_type": "code",
   "execution_count": 33,
   "metadata": {},
   "outputs": [],
   "source": [
    "import os, re, multiprocessing\n",
    "import numpy as np\n",
    "from PIL import Image\n",
    "from ohia.utils import resize_smaller_dim\n",
    "IMAGE_PATH = '/home/matt/repos/ohia.ai/data/images'"
   ]
  },
  {
   "cell_type": "code",
   "execution_count": 34,
   "metadata": {},
   "outputs": [],
   "source": [
    "# create wrapper to parallelize\n",
    "def resize_and_save(f):\n",
    "    try:\n",
    "        img = Image.open(f)\n",
    "        img = resize_smaller_dim(img)\n",
    "        img.save(re.sub('images', 'resized_images', f))\n",
    "        return(1)\n",
    "    except:\n",
    "        return(0)"
   ]
  },
  {
   "cell_type": "code",
   "execution_count": null,
   "metadata": {},
   "outputs": [],
   "source": [
    "# get list of images\n",
    "file_list = [os.path.join(dp, f) for dp, dn, fnames in os.walk(IMAGE_PATH) for f in fnames if os.path.splitext(f)[1]=='.jpg']"
   ]
  },
  {
   "cell_type": "code",
   "execution_count": 35,
   "metadata": {},
   "outputs": [],
   "source": [
    "# resize and save (in parallel)\n",
    "pool = multiprocessing.Pool(10)\n",
    "successes = pool.map(resize_and_save, file_list)\n",
    "pool.close()\n",
    "\n",
    "print(f'{np.sum(successes)} resized ({100*np.mean(successes)}%)')"
   ]
  }
 ],
 "metadata": {
  "kernelspec": {
   "display_name": "Python [conda env:kaggle]",
   "language": "python",
   "name": "conda-env-kaggle-py"
  },
  "language_info": {
   "codemirror_mode": {
    "name": "ipython",
    "version": 3
   },
   "file_extension": ".py",
   "mimetype": "text/x-python",
   "name": "python",
   "nbconvert_exporter": "python",
   "pygments_lexer": "ipython3",
   "version": "3.6.6"
  }
 },
 "nbformat": 4,
 "nbformat_minor": 2
}
