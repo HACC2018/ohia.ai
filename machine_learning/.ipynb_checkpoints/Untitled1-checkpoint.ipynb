{
 "cells": [
  {
   "cell_type": "code",
   "execution_count": 5,
   "metadata": {},
   "outputs": [],
   "source": [
    "import os, re, multiprocessing\n",
    "import numpy as np\n",
    "from PIL import Image\n",
    "from ohia.utils import resize_smaller_dim, crop_square\n",
    "\n",
    "IMAGE_PATH = '/home/matt/repos/ohia.ai/data'\n",
    "INPUT_PATH = 'images'\n",
    "OUTPUT_PATH = 'preprocessed_images'\n",
    "\n",
    "# create wrapper to parallelize\n",
    "def resize_crop_and_save(f):\n",
    "    try:\n",
    "        img = Image.open(f)\n",
    "        img = resize_smaller_dim(img)\n",
    "        img = crop_square(img)\n",
    "        img.save(re.sub(INPUT_PATH, OUTPUT_PATH, f))\n",
    "        return(1)\n",
    "    except:\n",
    "        return(0)\n",
    "    \n",
    "# create directory\n",
    "if not os.path.exists(f'{IMAGE_PATH}/{OUTPUT_PATH}'):\n",
    "    os.makedirs(f'{IMAGE_PATH}/{OUTPUT_PATH}')\n",
    "    \n",
    "# create subdirectories\n",
    "dir_list = os.listdir(f'{IMAGE_PATH}/{INPUT_PATH}')\n",
    "for d in dir_list:\n",
    "    dname = f'{IMAGE_PATH}/{OUTPUT_PATH}/{d}'\n",
    "    if not os.path.exists(dname):\n",
    "        os.makedirs(dname)\n",
    "        \n",
    "# get list of images\n",
    "file_list = [os.path.join(dp, f) \n",
    "             for dp, dn, fnames in os.walk(f'{IMAGE_PATH}/{INPUT_PATH}')\n",
    "             for f in fnames if os.path.splitext(f)[1]=='.jpg']        \n",
    "\n",
    "# resize and save (in parallel)\n",
    "pool = multiprocessing.Pool(10)\n",
    "successes = pool.map(resize_crop_and_save, file_list)\n",
    "pool.close()\n",
    "\n",
    "print(f'{np.sum(successes)} resized ({100*np.mean(successes)}%)')"
   ]
  }
 ],
 "metadata": {
  "kernelspec": {
   "display_name": "Python [conda env:kaggle]",
   "language": "python",
   "name": "conda-env-kaggle-py"
  },
  "language_info": {
   "codemirror_mode": {
    "name": "ipython",
    "version": 3
   },
   "file_extension": ".py",
   "mimetype": "text/x-python",
   "name": "python",
   "nbconvert_exporter": "python",
   "pygments_lexer": "ipython3",
   "version": "3.6.6"
  }
 },
 "nbformat": 4,
 "nbformat_minor": 2
}
