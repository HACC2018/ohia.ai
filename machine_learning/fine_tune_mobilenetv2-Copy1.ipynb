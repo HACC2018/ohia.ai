{
 "cells": [
  {
   "cell_type": "code",
   "execution_count": 1,
   "metadata": {},
   "outputs": [
    {
     "name": "stderr",
     "output_type": "stream",
     "text": [
      "Using TensorFlow backend.\n"
     ]
    }
   ],
   "source": [
    "# https://github.com/keras-team/keras-applications/blob/master/keras_applications/mobilenet_v2.py\n",
    "import os, re, glob\n",
    "os.environ['CUDA_DEVICE_ORDER']='PCI_BUS_ID'\n",
    "os.environ['CUDA_VISIBLE_DEVICES']='0'\n",
    "\n",
    "import numpy as np\n",
    "import pandas as pd\n",
    "import tensorflowjs as tfjs\n",
    "\n",
    "from keras import layers, Model, callbacks\n",
    "from keras.optimizers import Adam\n",
    "from keras.applications.mobilenetv2 import MobileNetV2\n",
    "from sklearn.model_selection import train_test_split\n",
    "from ohia.metrics import top_1_accuracy, top_3_accuracy, top_5_accuracy\n",
    "from ohia.encoders import FastLabelEncoder\n",
    "from ohia.utils import PlantNetGenerator"
   ]
  },
  {
   "cell_type": "code",
   "execution_count": 7,
   "metadata": {},
   "outputs": [],
   "source": [
    "SEED = 0\n",
    "ALPHA = 1.4 # [0.35, 0.50, 0.75, 1.0, 1.3, 1.4]\n",
    "BATCH_SIZE = 64\n",
    "MODEL_NAME = f'mobilenetv2-{ALPHA:0.2f}'\n",
    "FILE_PATH = '/home/matt/repos/ohia.ai/data'\n",
    "IMAGE_DIR = 'resized_images'"
   ]
  },
  {
   "cell_type": "code",
   "execution_count": 3,
   "metadata": {},
   "outputs": [],
   "source": [
    "# get list of images and labels\n",
    "file_list = glob.glob(f'{FILE_PATH}/{IMAGE_DIR}/**/*.jpg', recursive=True)\n",
    "full_label_list = [re.split('/', f)[-2] for f in file_list]\n",
    "full_label_ids = FastLabelEncoder().fit_transform(full_label_list)"
   ]
  },
  {
   "cell_type": "code",
   "execution_count": 4,
   "metadata": {},
   "outputs": [],
   "source": [
    "# split data\n",
    "train_files, valid_files, train_ids, valid_ids \\\n",
    "    = train_test_split(file_list, full_label_ids, test_size=0.1, random_state=SEED)"
   ]
  },
  {
   "cell_type": "code",
   "execution_count": 5,
   "metadata": {},
   "outputs": [],
   "source": [
    "# create generators\n",
    "n_classes = len(np.unique(full_label_list))\n",
    "train_generator = PlantNetGenerator(train_files, train_ids, n_classes, BATCH_SIZE, augment=True)\n",
    "valid_generator = PlantNetGenerator(valid_files, valid_ids, n_classes, BATCH_SIZE, augment=False)"
   ]
  },
  {
   "cell_type": "code",
   "execution_count": 8,
   "metadata": {
    "scrolled": true
   },
   "outputs": [
    {
     "name": "stdout",
     "output_type": "stream",
     "text": [
      "Epoch 1/100\n",
      "165/165 [==============================] - 50s 300ms/step - loss: 1.6453 - top_1_accuracy: 0.5441 - top_3_accuracy: 0.7402 - top_5_accuracy: 0.8210 - val_loss: 1.4767 - val_top_1_accuracy: 0.5365 - val_top_3_accuracy: 0.7925 - val_top_5_accuracy: 0.8845\n",
      "Epoch 2/100\n",
      "165/165 [==============================] - 45s 273ms/step - loss: 1.0016 - top_1_accuracy: 0.7116 - top_3_accuracy: 0.8813 - top_5_accuracy: 0.9333 - val_loss: 1.4496 - val_top_1_accuracy: 0.5738 - val_top_3_accuracy: 0.7934 - val_top_5_accuracy: 0.8837\n",
      "Epoch 3/100\n",
      "165/165 [==============================] - 46s 276ms/step - loss: 0.8497 - top_1_accuracy: 0.7453 - top_3_accuracy: 0.9056 - top_5_accuracy: 0.9523 - val_loss: 1.3499 - val_top_1_accuracy: 0.5911 - val_top_3_accuracy: 0.8203 - val_top_5_accuracy: 0.9062\n",
      "Epoch 4/100\n",
      "165/165 [==============================] - 46s 280ms/step - loss: 0.7425 - top_1_accuracy: 0.7777 - top_3_accuracy: 0.9240 - top_5_accuracy: 0.9641 - val_loss: 1.3564 - val_top_1_accuracy: 0.6016 - val_top_3_accuracy: 0.8220 - val_top_5_accuracy: 0.9097\n",
      "Epoch 5/100\n",
      "165/165 [==============================] - 47s 286ms/step - loss: 0.6737 - top_1_accuracy: 0.7968 - top_3_accuracy: 0.9361 - top_5_accuracy: 0.9714 - val_loss: 1.3588 - val_top_1_accuracy: 0.6059 - val_top_3_accuracy: 0.8299 - val_top_5_accuracy: 0.9080\n",
      "Epoch 6/100\n",
      "165/165 [==============================] - 39s 238ms/step - loss: 0.6240 - top_1_accuracy: 0.8130 - top_3_accuracy: 0.9457 - top_5_accuracy: 0.9759 - val_loss: 1.3543 - val_top_1_accuracy: 0.6033 - val_top_3_accuracy: 0.8299 - val_top_5_accuracy: 0.9219\n",
      "Epoch 7/100\n",
      "165/165 [==============================] - 40s 242ms/step - loss: 0.5758 - top_1_accuracy: 0.8259 - top_3_accuracy: 0.9492 - top_5_accuracy: 0.9786 - val_loss: 1.2785 - val_top_1_accuracy: 0.6215 - val_top_3_accuracy: 0.8446 - val_top_5_accuracy: 0.9132\n",
      "Epoch 8/100\n",
      "165/165 [==============================] - 40s 243ms/step - loss: 0.5122 - top_1_accuracy: 0.8469 - top_3_accuracy: 0.9629 - top_5_accuracy: 0.9856 - val_loss: 1.3084 - val_top_1_accuracy: 0.6259 - val_top_3_accuracy: 0.8411 - val_top_5_accuracy: 0.9167\n",
      "Epoch 9/100\n",
      "165/165 [==============================] - 42s 252ms/step - loss: 0.4902 - top_1_accuracy: 0.8498 - top_3_accuracy: 0.9642 - top_5_accuracy: 0.9858 - val_loss: 1.4130 - val_top_1_accuracy: 0.5929 - val_top_3_accuracy: 0.8255 - val_top_5_accuracy: 0.9036\n",
      "Epoch 10/100\n",
      "165/165 [==============================] - 39s 238ms/step - loss: 0.4602 - top_1_accuracy: 0.8639 - top_3_accuracy: 0.9703 - top_5_accuracy: 0.9881 - val_loss: 1.3054 - val_top_1_accuracy: 0.6267 - val_top_3_accuracy: 0.8403 - val_top_5_accuracy: 0.9115\n",
      "\n",
      "Epoch 00010: ReduceLROnPlateau reducing learning rate to 4.999999873689376e-05.\n",
      "Epoch 11/100\n",
      "165/165 [==============================] - 40s 240ms/step - loss: 0.3989 - top_1_accuracy: 0.8875 - top_3_accuracy: 0.9767 - top_5_accuracy: 0.9924 - val_loss: 1.3713 - val_top_1_accuracy: 0.6094 - val_top_3_accuracy: 0.8420 - val_top_5_accuracy: 0.9062\n",
      "Epoch 12/100\n",
      "165/165 [==============================] - 41s 250ms/step - loss: 0.3794 - top_1_accuracy: 0.8906 - top_3_accuracy: 0.9795 - top_5_accuracy: 0.9938 - val_loss: 1.3644 - val_top_1_accuracy: 0.6085 - val_top_3_accuracy: 0.8385 - val_top_5_accuracy: 0.9045\n",
      "Epoch 13/100\n",
      "165/165 [==============================] - 42s 254ms/step - loss: 0.3691 - top_1_accuracy: 0.8945 - top_3_accuracy: 0.9810 - top_5_accuracy: 0.9935 - val_loss: 1.4037 - val_top_1_accuracy: 0.6016 - val_top_3_accuracy: 0.8290 - val_top_5_accuracy: 0.9141\n",
      "\n",
      "Epoch 00013: ReduceLROnPlateau reducing learning rate to 2.499999936844688e-05.\n",
      "Epoch 14/100\n",
      "165/165 [==============================] - 42s 253ms/step - loss: 0.3424 - top_1_accuracy: 0.9068 - top_3_accuracy: 0.9827 - top_5_accuracy: 0.9943 - val_loss: 1.3482 - val_top_1_accuracy: 0.6137 - val_top_3_accuracy: 0.8359 - val_top_5_accuracy: 0.9158\n",
      "Epoch 15/100\n",
      "165/165 [==============================] - 39s 239ms/step - loss: 0.3316 - top_1_accuracy: 0.9119 - top_3_accuracy: 0.9848 - top_5_accuracy: 0.9950 - val_loss: 1.3625 - val_top_1_accuracy: 0.6181 - val_top_3_accuracy: 0.8299 - val_top_5_accuracy: 0.9167\n",
      "Epoch 16/100\n",
      "164/165 [============================>.] - ETA: 0s - loss: 0.3330 - top_1_accuracy: 0.9083 - top_3_accuracy: 0.9832 - top_5_accuracy: 0.9947Epoch 16/100\n",
      "165/165 [==============================] - 41s 247ms/step - loss: 0.3332 - top_1_accuracy: 0.9082 - top_3_accuracy: 0.9833 - top_5_accuracy: 0.9947 - val_loss: 1.3481 - val_top_1_accuracy: 0.6137 - val_top_3_accuracy: 0.8455 - val_top_5_accuracy: 0.9175\n",
      "Epoch 17/100\n",
      "165/165 [==============================] - 40s 240ms/step - loss: 0.3265 - top_1_accuracy: 0.9170 - top_3_accuracy: 0.9848 - top_5_accuracy: 0.9949 - val_loss: 1.3454 - val_top_1_accuracy: 0.6068 - val_top_3_accuracy: 0.8490 - val_top_5_accuracy: 0.9149\n",
      "Epoch 18/100\n",
      "165/165 [==============================] - 41s 247ms/step - loss: 0.3198 - top_1_accuracy: 0.9136 - top_3_accuracy: 0.9868 - top_5_accuracy: 0.9955 - val_loss: 1.3414 - val_top_1_accuracy: 0.6189 - val_top_3_accuracy: 0.8394 - val_top_5_accuracy: 0.9158\n",
      "Epoch 19/100\n",
      "164/165 [============================>.] - ETA: 0s - loss: 0.3175 - top_1_accuracy: 0.9141 - top_3_accuracy: 0.9871 - top_5_accuracy: 0.9956Epoch 19/100\n",
      "165/165 [==============================] - 41s 250ms/step - loss: 0.3176 - top_1_accuracy: 0.9141 - top_3_accuracy: 0.9871 - top_5_accuracy: 0.9956 - val_loss: 1.3577 - val_top_1_accuracy: 0.6120 - val_top_3_accuracy: 0.8438 - val_top_5_accuracy: 0.9106\n",
      "Epoch 20/100\n",
      "164/165 [============================>.] - ETA: 0s - loss: 0.2938 - top_1_accuracy: 0.9243 - top_3_accuracy: 0.9882 - top_5_accuracy: 0.9963Epoch 20/100\n",
      "165/165 [==============================] - 40s 240ms/step - loss: 0.2944 - top_1_accuracy: 0.9241 - top_3_accuracy: 0.9882 - top_5_accuracy: 0.9962 - val_loss: 1.3541 - val_top_1_accuracy: 0.6111 - val_top_3_accuracy: 0.8403 - val_top_5_accuracy: 0.9141\n",
      "\n",
      "Epoch 00020: ReduceLROnPlateau reducing learning rate to 1.249999968422344e-05.\n",
      "Epoch 21/100\n",
      "165/165 [==============================] - 41s 251ms/step - loss: 0.2890 - top_1_accuracy: 0.9266 - top_3_accuracy: 0.9887 - top_5_accuracy: 0.9961 - val_loss: 1.3504 - val_top_1_accuracy: 0.6120 - val_top_3_accuracy: 0.8429 - val_top_5_accuracy: 0.9184\n",
      "Epoch 22/100\n",
      "165/165 [==============================] - 39s 239ms/step - loss: 0.2895 - top_1_accuracy: 0.9265 - top_3_accuracy: 0.9877 - top_5_accuracy: 0.9966 - val_loss: 1.3257 - val_top_1_accuracy: 0.6241 - val_top_3_accuracy: 0.8429 - val_top_5_accuracy: 0.9184\n",
      "Epoch 23/100\n",
      "165/165 [==============================] - 40s 244ms/step - loss: 0.2832 - top_1_accuracy: 0.9272 - top_3_accuracy: 0.9903 - top_5_accuracy: 0.9968 - val_loss: 1.3666 - val_top_1_accuracy: 0.6172 - val_top_3_accuracy: 0.8455 - val_top_5_accuracy: 0.9158\n",
      "\n",
      "Epoch 00023: ReduceLROnPlateau reducing learning rate to 6.24999984211172e-06.\n",
      "Epoch 24/100\n",
      "165/165 [==============================] - 41s 251ms/step - loss: 0.2800 - top_1_accuracy: 0.9249 - top_3_accuracy: 0.9891 - top_5_accuracy: 0.9971 - val_loss: 1.3799 - val_top_1_accuracy: 0.6120 - val_top_3_accuracy: 0.8403 - val_top_5_accuracy: 0.9158\n",
      "Epoch 25/100\n",
      "165/165 [==============================] - 41s 251ms/step - loss: 0.2712 - top_1_accuracy: 0.9317 - top_3_accuracy: 0.9920 - top_5_accuracy: 0.9973 - val_loss: 1.3746 - val_top_1_accuracy: 0.6102 - val_top_3_accuracy: 0.8359 - val_top_5_accuracy: 0.9167\n",
      "Epoch 26/100\n",
      "165/165 [==============================] - 40s 242ms/step - loss: 0.2815 - top_1_accuracy: 0.9277 - top_3_accuracy: 0.9902 - top_5_accuracy: 0.9962 - val_loss: 1.3524 - val_top_1_accuracy: 0.6181 - val_top_3_accuracy: 0.8420 - val_top_5_accuracy: 0.9158\n",
      "\n",
      "Epoch 00026: ReduceLROnPlateau reducing learning rate to 3.12499992105586e-06.\n",
      "Epoch 27/100\n",
      "165/165 [==============================] - 41s 247ms/step - loss: 0.2784 - top_1_accuracy: 0.9333 - top_3_accuracy: 0.9900 - top_5_accuracy: 0.9966 - val_loss: 1.3675 - val_top_1_accuracy: 0.6172 - val_top_3_accuracy: 0.8359 - val_top_5_accuracy: 0.9141\n",
      "Epoch 00027: early stopping\n"
     ]
    },
    {
     "data": {
      "text/plain": [
       "<keras.callbacks.History at 0x7f90c50592e8>"
      ]
     },
     "execution_count": 8,
     "metadata": {},
     "output_type": "execute_result"
    }
   ],
   "source": [
    "# load pretrained ImageNet model\n",
    "base_model = MobileNetV2(\n",
    "    input_shape=(224,224,3),\n",
    "    alpha=ALPHA,\n",
    "    weights='imagenet',\n",
    "    include_top=False\n",
    ")\n",
    "\n",
    "# set freeze all layers\n",
    "for layer in base_model.layers:\n",
    "    layer.trainable = False\n",
    "    \n",
    "# map ImageNet features to plants\n",
    "x = base_model.output\n",
    "x = layers.GlobalAveragePooling2D()(x)\n",
    "x = layers.Dense(2048, activation='relu')(x)\n",
    "outputs = layers.Dense(n_classes, activation='softmax')(x)\n",
    "    \n",
    "# compile the model\n",
    "model = Model(inputs=base_model.input, outputs=outputs)\n",
    "model.compile(\n",
    "    optimizer=Adam(lr=0.0001),\n",
    "    loss='categorical_crossentropy',\n",
    "    metrics=[top_1_accuracy, top_3_accuracy, top_5_accuracy]\n",
    ")\n",
    "\n",
    "# define callbacks\n",
    "callbacks_list = [\n",
    "    callbacks.EarlyStopping(\n",
    "        monitor='val_top_3_accuracy',\n",
    "        patience=10,\n",
    "        verbose=1,\n",
    "        mode='max',\n",
    "    ),\n",
    "    callbacks.ReduceLROnPlateau(\n",
    "        monitor='val_top_3_accuracy',\n",
    "        factor=0.5,\n",
    "        patience=3,\n",
    "        verbose=1,\n",
    "        mode='max',\n",
    "    ),\n",
    "    callbacks.ModelCheckpoint(\n",
    "        monitor='val_top_3_accuracy',\n",
    "        filepath=f'{FILE_PATH}/weights/{MODEL_NAME}' + '_{epoch:02d}.hdf5',\n",
    "        save_best_only=True,\n",
    "        save_weights_only=True,\n",
    "        mode='max',\n",
    "    ),\n",
    "]\n",
    "\n",
    "# train model\n",
    "model.fit_generator(\n",
    "    generator=train_generator,\n",
    "    validation_data=valid_generator,\n",
    "    callbacks=callbacks_list,\n",
    "    use_multiprocessing=True,\n",
    "    workers=10,\n",
    "    epochs=100,    \n",
    ")"
   ]
  },
  {
   "cell_type": "code",
   "execution_count": 9,
   "metadata": {},
   "outputs": [],
   "source": [
    "# load best model\n",
    "best_weights = glob.glob(f'{FILE_PATH}/weights/{MODEL_NAME}**')\n",
    "best_weights = np.sort(best_weights)[-1]\n",
    "model.load_weights(best_weights)"
   ]
  },
  {
   "cell_type": "code",
   "execution_count": 10,
   "metadata": {},
   "outputs": [],
   "source": [
    "# save model\n",
    "tfjs.converters.save_keras_model(model, f'{FILE_PATH}/models/{MODEL_NAME}')"
   ]
  },
  {
   "cell_type": "code",
   "execution_count": null,
   "metadata": {},
   "outputs": [],
   "source": [
    "# alpha: 1.40,  val_top_1_accuracy: 0.6068,  val_top_3_accuracy: 0.8490,  val_top_5_accuracy: 0.9149\n",
    "# alpha: 1.00,  val_top_1_accuracy: 0.5521,  val_top_3_accuracy: 0.7786,  val_top_5_accuracy: 0.8698"
   ]
  }
 ],
 "metadata": {
  "kernelspec": {
   "display_name": "Python [conda env:kaggle]",
   "language": "python",
   "name": "conda-env-kaggle-py"
  },
  "language_info": {
   "codemirror_mode": {
    "name": "ipython",
    "version": 3
   },
   "file_extension": ".py",
   "mimetype": "text/x-python",
   "name": "python",
   "nbconvert_exporter": "python",
   "pygments_lexer": "ipython3",
   "version": "3.6.6"
  }
 },
 "nbformat": 4,
 "nbformat_minor": 2
}
