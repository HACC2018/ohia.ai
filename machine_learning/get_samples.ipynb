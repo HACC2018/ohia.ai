{
 "cells": [
  {
   "cell_type": "code",
   "execution_count": 1,
   "metadata": {},
   "outputs": [],
   "source": [
    "import os, re, glob\n",
    "import numpy as np\n",
    "from PIL import Image"
   ]
  },
  {
   "cell_type": "code",
   "execution_count": null,
   "metadata": {},
   "outputs": [],
   "source": [
    "FILE_PATH = '/home/matt/repos/ohia.ai/data'\n",
    "INPUT_DIR = "
   ]
  },
  {
   "cell_type": "code",
   "execution_count": 2,
   "metadata": {},
   "outputs": [],
   "source": [
    "# create a directory if it doesn't already exist\n",
    "def make_dir(dir_name):\n",
    "    if not os.path.exists(dir_name):\n",
    "        os.makedirs(dir_name)"
   ]
  },
  {
   "cell_type": "code",
   "execution_count": 3,
   "metadata": {},
   "outputs": [],
   "source": [
    "# get list of images and labels\n",
    "file_list = glob.glob(f'{FILE_PATH}/images/**/*.jpg', recursive=True)\n",
    "label_list = [re.split('/', f)[-2] for f in file_list]"
   ]
  },
  {
   "cell_type": "code",
   "execution_count": 4,
   "metadata": {},
   "outputs": [],
   "source": [
    "make_dir(f'{FILE_PATH}/sample_images')\n",
    "for lookup in np.unique(label_list):\n",
    "    make_dir(f'{FILE_PATH}/sample_images/{lookup}')\n",
    "    \n",
    "    count = 0\n",
    "    for f,n in zip(file_list, label_list):\n",
    "        if count==5:\n",
    "            break\n",
    "        if lookup==n:\n",
    "            try:\n",
    "                img = Image.open(f)\n",
    "                img.save(re.sub('images', 'sample_images', f))\n",
    "                count += 1\n",
    "            except:\n",
    "                print(f'Skipping {f}')"
   ]
  },
  {
   "cell_type": "code",
   "execution_count": null,
   "metadata": {},
   "outputs": [],
   "source": []
  }
 ],
 "metadata": {
  "kernelspec": {
   "display_name": "Python [conda env:anaconda3]",
   "language": "python",
   "name": "conda-env-anaconda3-py"
  },
  "language_info": {
   "codemirror_mode": {
    "name": "ipython",
    "version": 3
   },
   "file_extension": ".py",
   "mimetype": "text/x-python",
   "name": "python",
   "nbconvert_exporter": "python",
   "pygments_lexer": "ipython3",
   "version": "3.6.5"
  }
 },
 "nbformat": 4,
 "nbformat_minor": 2
}
