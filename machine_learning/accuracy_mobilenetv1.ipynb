{
 "cells": [
  {
   "cell_type": "code",
   "execution_count": 1,
   "metadata": {},
   "outputs": [
    {
     "name": "stderr",
     "output_type": "stream",
     "text": [
      "Using TensorFlow backend.\n"
     ]
    }
   ],
   "source": [
    "import os, re, glob, json\n",
    "import numpy as np\n",
    "import pandas as pd\n",
    "\n",
    "from keras.applications.mobilenet import MobileNet\n",
    "from sklearn.model_selection import train_test_split\n",
    "from ohia.metrics import top_1_accuracy, top_3_accuracy, top_5_accuracy\n",
    "from ohia.encoders import FastLabelEncoder\n",
    "from ohia.utils import PlantNetGenerator"
   ]
  },
  {
   "cell_type": "code",
   "execution_count": 2,
   "metadata": {},
   "outputs": [],
   "source": [
    "SEED = 0\n",
    "ALPHA = 1.00\n",
    "BATCH_SIZE = 64\n",
    "MODEL_NAME = 'mobilenetv1-1.00'\n",
    "FILE_PATH = 'data'\n",
    "IMAGE_DIR = 'preprocessed_images'"
   ]
  },
  {
   "cell_type": "code",
   "execution_count": 3,
   "metadata": {},
   "outputs": [],
   "source": [
    "# get list of images and labels\n",
    "file_list = glob.glob(f'{FILE_PATH}\\\\{IMAGE_DIR}\\\\**\\\\*.jpg', recursive=True)\n",
    "full_label_list = [re.split('\\\\\\\\', f)[-2] for f in file_list]"
   ]
  },
  {
   "cell_type": "code",
   "execution_count": 4,
   "metadata": {},
   "outputs": [],
   "source": [
    "# encode label names with ids\n",
    "fle = FastLabelEncoder()\n",
    "label_ids = fle.fit_transform(full_label_list)"
   ]
  },
  {
   "cell_type": "code",
   "execution_count": 5,
   "metadata": {},
   "outputs": [],
   "source": [
    "# save id2label map\n",
    "id2label = {int(fle.transform([label])):label for label in np.unique(full_label_list)}"
   ]
  },
  {
   "cell_type": "code",
   "execution_count": 6,
   "metadata": {},
   "outputs": [],
   "source": [
    "# split data\n",
    "train_files, valid_files, train_ids, valid_ids \\\n",
    "    = train_test_split(file_list, label_ids, test_size=0.1, random_state=SEED)"
   ]
  },
  {
   "cell_type": "code",
   "execution_count": 89,
   "metadata": {},
   "outputs": [
    {
     "data": {
      "text/plain": [
       "10593"
      ]
     },
     "execution_count": 89,
     "metadata": {},
     "output_type": "execute_result"
    }
   ],
   "source": [
    "len(train_ids)"
   ]
  },
  {
   "cell_type": "code",
   "execution_count": 90,
   "metadata": {},
   "outputs": [
    {
     "data": {
      "text/plain": [
       "1178"
      ]
     },
     "execution_count": 90,
     "metadata": {},
     "output_type": "execute_result"
    }
   ],
   "source": [
    "len(valid_ids)"
   ]
  },
  {
   "cell_type": "code",
   "execution_count": 7,
   "metadata": {},
   "outputs": [],
   "source": [
    "# create generators\n",
    "n_classes = len(np.unique(full_label_list))\n",
    "valid_generator = PlantNetGenerator(valid_files, valid_ids, n_classes, BATCH_SIZE, augment=False, shuffle=False)"
   ]
  },
  {
   "cell_type": "code",
   "execution_count": 8,
   "metadata": {},
   "outputs": [],
   "source": [
    "# load pretrained ImageNet model\n",
    "base_model = MobileNet(\n",
    "    input_shape=(224,224,3),\n",
    "    weights='imagenet',\n",
    "    include_top=False\n",
    ")\n",
    "\n",
    "# set freeze all layers\n",
    "for layer in base_model.layers:\n",
    "    layer.trainable = False\n",
    "    \n",
    "# map ImageNet features to plants\n",
    "x = base_model.output\n",
    "x = layers.GlobalAveragePooling2D()(x)\n",
    "x = layers.Dense(1024, activation='relu')(x)\n",
    "outputs = layers.Dense(n_classes, activation='softmax')(x)\n",
    "    "
   ]
  },
  {
   "cell_type": "code",
   "execution_count": 9,
   "metadata": {},
   "outputs": [],
   "source": [
    "# compile the model\n",
    "model = Model(inputs=base_model.input, outputs=outputs)\n",
    "model.compile(\n",
    "    optimizer=Adam(lr=0.0001),\n",
    "    loss='categorical_crossentropy',\n",
    "    metrics=[top_1_accuracy, top_3_accuracy, top_5_accuracy]\n",
    ")"
   ]
  },
  {
   "cell_type": "code",
   "execution_count": 10,
   "metadata": {},
   "outputs": [],
   "source": [
    "# load best model\n",
    "best_weights = glob.glob(f'{FILE_PATH}\\\\{MODEL_NAME}**')\n",
    "best_weights = np.sort(best_weights)[0]\n",
    "model.load_weights(best_weights)\n"
   ]
  },
  {
   "cell_type": "code",
   "execution_count": 85,
   "metadata": {},
   "outputs": [
    {
     "data": {
      "text/plain": [
       "(1152, 23)"
      ]
     },
     "execution_count": 85,
     "metadata": {},
     "output_type": "execute_result"
    }
   ],
   "source": [
    "train_pred = model.predict_generator(train_generator)\n",
    "prediction = model.predict_generator(valid_generator)\n",
    "prediction.shape"
   ]
  },
  {
   "cell_type": "code",
   "execution_count": 12,
   "metadata": {},
   "outputs": [
    {
     "data": {
      "text/plain": [
       "(1152, 23)"
      ]
     },
     "execution_count": 12,
     "metadata": {},
     "output_type": "execute_result"
    }
   ],
   "source": [
    "pred_ids_sort = np.argsort(prediction, axis=1)\n",
    "pred_ids_sort.shape"
   ]
  },
  {
   "cell_type": "code",
   "execution_count": 13,
   "metadata": {},
   "outputs": [
    {
     "name": "stdout",
     "output_type": "stream",
     "text": [
      "[[ 5 12 14 ...  9 22 15]\n",
      " [ 6 12 16 ... 22 21 13]\n",
      " [16  6 20 ...  3  7  8]\n",
      " ...\n",
      " [16 10  1 ... 13 17  9]\n",
      " [ 1  6  4 ... 22 21 13]\n",
      " [12  6 16 ...  7 13 21]]\n"
     ]
    }
   ],
   "source": [
    "print(pred_ids_sort)"
   ]
  },
  {
   "cell_type": "code",
   "execution_count": 15,
   "metadata": {},
   "outputs": [
    {
     "data": {
      "text/plain": [
       "(1152, 23)"
      ]
     },
     "execution_count": 15,
     "metadata": {},
     "output_type": "execute_result"
    }
   ],
   "source": [
    "pred_ids_sort_label  = np.array([ [id2label[col] for col in row ] for row in np.array(pred_ids_sort)])\n",
    "pred_ids_sort_label.shape"
   ]
  },
  {
   "cell_type": "code",
   "execution_count": 16,
   "metadata": {},
   "outputs": [
    {
     "name": "stdout",
     "output_type": "stream",
     "text": [
      "[['Bougainvillea' 'Heliconia' 'Officinale' ... 'Cyperus' 'Senecio'\n",
      "  'Panicum']\n",
      " ['Cocos' 'Heliconia' 'Pennisetum' ... 'Senecio' 'Rubus' 'Hibiscus']\n",
      " ['Pennisetum' 'Cocos' 'Pseudognaphalium' ... 'Anthurium' 'Cordia'\n",
      "  'Cordyline']\n",
      " ...\n",
      " ['Pennisetum' 'Delairea' 'Aleurites' ... 'Hibiscus' 'Plumeria' 'Cyperus']\n",
      " ['Aleurites' 'Cocos' 'Artocarpus' ... 'Senecio' 'Rubus' 'Hibiscus']\n",
      " ['Heliconia' 'Cocos' 'Pennisetum' ... 'Cordia' 'Hibiscus' 'Rubus']]\n"
     ]
    }
   ],
   "source": [
    "print(pred_ids_sort_label)"
   ]
  },
  {
   "cell_type": "code",
   "execution_count": 17,
   "metadata": {},
   "outputs": [],
   "source": [
    "valid_labels = [id2label[i] for i in valid_ids]\n",
    "valid_labels = valid_labels[:1152]"
   ]
  },
  {
   "cell_type": "code",
   "execution_count": 18,
   "metadata": {},
   "outputs": [],
   "source": [
    "adjusted_valid_labels = valid_labels[:1152]\n",
    "accuracy_sort         = []\n",
    "i = 0\n",
    "for v in adjusted_valid_labels:\n",
    "    accuracy_sort.append(pred_ids_sort_label[i] == v)\n",
    "    i = i + 1\n",
    "\n",
    "accuracy_sort = np.array(accuracy_sort)"
   ]
  },
  {
   "cell_type": "code",
   "execution_count": 19,
   "metadata": {},
   "outputs": [
    {
     "data": {
      "text/plain": [
       "0.6605902777777778"
      ]
     },
     "execution_count": 19,
     "metadata": {},
     "output_type": "execute_result"
    }
   ],
   "source": [
    "accuracy_sort[:,-1].mean()"
   ]
  },
  {
   "cell_type": "markdown",
   "metadata": {},
   "source": [
    "## Top 1, Top 3, Top 5 Accuracy"
   ]
  },
  {
   "cell_type": "code",
   "execution_count": 94,
   "metadata": {},
   "outputs": [
    {
     "data": {
      "text/html": [
       "<div>\n",
       "<style scoped>\n",
       "    .dataframe tbody tr th:only-of-type {\n",
       "        vertical-align: middle;\n",
       "    }\n",
       "\n",
       "    .dataframe tbody tr th {\n",
       "        vertical-align: top;\n",
       "    }\n",
       "\n",
       "    .dataframe thead tr th {\n",
       "        text-align: left;\n",
       "    }\n",
       "\n",
       "    .dataframe thead tr:last-of-type th {\n",
       "        text-align: right;\n",
       "    }\n",
       "</style>\n",
       "<table border=\"1\" class=\"dataframe\">\n",
       "  <thead>\n",
       "    <tr>\n",
       "      <th></th>\n",
       "      <th>top_1</th>\n",
       "      <th>top_3</th>\n",
       "      <th>top_5</th>\n",
       "    </tr>\n",
       "    <tr>\n",
       "      <th></th>\n",
       "      <th>mean</th>\n",
       "      <th>mean</th>\n",
       "      <th>mean</th>\n",
       "    </tr>\n",
       "    <tr>\n",
       "      <th>labels</th>\n",
       "      <th></th>\n",
       "      <th></th>\n",
       "      <th></th>\n",
       "    </tr>\n",
       "  </thead>\n",
       "  <tbody>\n",
       "    <tr>\n",
       "      <th>Abutilon</th>\n",
       "      <td>0.178571</td>\n",
       "      <td>0.750000</td>\n",
       "      <td>0.785714</td>\n",
       "    </tr>\n",
       "    <tr>\n",
       "      <th>Aleurites</th>\n",
       "      <td>0.555556</td>\n",
       "      <td>0.703704</td>\n",
       "      <td>0.814815</td>\n",
       "    </tr>\n",
       "    <tr>\n",
       "      <th>Ananas</th>\n",
       "      <td>0.809524</td>\n",
       "      <td>0.904762</td>\n",
       "      <td>0.936508</td>\n",
       "    </tr>\n",
       "    <tr>\n",
       "      <th>Anthurium</th>\n",
       "      <td>0.581395</td>\n",
       "      <td>0.848837</td>\n",
       "      <td>0.918605</td>\n",
       "    </tr>\n",
       "    <tr>\n",
       "      <th>Artocarpus</th>\n",
       "      <td>0.750000</td>\n",
       "      <td>0.888889</td>\n",
       "      <td>0.944444</td>\n",
       "    </tr>\n",
       "    <tr>\n",
       "      <th>Bougainvillea</th>\n",
       "      <td>0.623377</td>\n",
       "      <td>0.870130</td>\n",
       "      <td>0.909091</td>\n",
       "    </tr>\n",
       "    <tr>\n",
       "      <th>Cocos</th>\n",
       "      <td>0.400000</td>\n",
       "      <td>0.720000</td>\n",
       "      <td>0.880000</td>\n",
       "    </tr>\n",
       "    <tr>\n",
       "      <th>Cordia</th>\n",
       "      <td>0.724138</td>\n",
       "      <td>0.896552</td>\n",
       "      <td>0.965517</td>\n",
       "    </tr>\n",
       "    <tr>\n",
       "      <th>Cordyline</th>\n",
       "      <td>0.916667</td>\n",
       "      <td>0.972222</td>\n",
       "      <td>1.000000</td>\n",
       "    </tr>\n",
       "    <tr>\n",
       "      <th>Cyperus</th>\n",
       "      <td>0.681818</td>\n",
       "      <td>0.909091</td>\n",
       "      <td>0.954545</td>\n",
       "    </tr>\n",
       "    <tr>\n",
       "      <th>Delairea</th>\n",
       "      <td>0.153846</td>\n",
       "      <td>0.615385</td>\n",
       "      <td>0.846154</td>\n",
       "    </tr>\n",
       "    <tr>\n",
       "      <th>Dioscorea</th>\n",
       "      <td>0.388889</td>\n",
       "      <td>0.888889</td>\n",
       "      <td>0.916667</td>\n",
       "    </tr>\n",
       "    <tr>\n",
       "      <th>Heliconia</th>\n",
       "      <td>0.607143</td>\n",
       "      <td>0.946429</td>\n",
       "      <td>0.982143</td>\n",
       "    </tr>\n",
       "    <tr>\n",
       "      <th>Hibiscus</th>\n",
       "      <td>0.770701</td>\n",
       "      <td>0.974522</td>\n",
       "      <td>1.000000</td>\n",
       "    </tr>\n",
       "    <tr>\n",
       "      <th>Officinale</th>\n",
       "      <td>0.285714</td>\n",
       "      <td>0.673469</td>\n",
       "      <td>0.836735</td>\n",
       "    </tr>\n",
       "    <tr>\n",
       "      <th>Panicum</th>\n",
       "      <td>0.551724</td>\n",
       "      <td>0.862069</td>\n",
       "      <td>0.965517</td>\n",
       "    </tr>\n",
       "    <tr>\n",
       "      <th>Pennisetum</th>\n",
       "      <td>0.208333</td>\n",
       "      <td>0.541667</td>\n",
       "      <td>0.708333</td>\n",
       "    </tr>\n",
       "    <tr>\n",
       "      <th>Plumeria</th>\n",
       "      <td>0.902439</td>\n",
       "      <td>1.000000</td>\n",
       "      <td>1.000000</td>\n",
       "    </tr>\n",
       "    <tr>\n",
       "      <th>Portulaca</th>\n",
       "      <td>0.562500</td>\n",
       "      <td>0.875000</td>\n",
       "      <td>0.937500</td>\n",
       "    </tr>\n",
       "    <tr>\n",
       "      <th>Pritchardia</th>\n",
       "      <td>0.368421</td>\n",
       "      <td>0.736842</td>\n",
       "      <td>0.842105</td>\n",
       "    </tr>\n",
       "    <tr>\n",
       "      <th>Pseudognaphalium</th>\n",
       "      <td>0.750000</td>\n",
       "      <td>0.916667</td>\n",
       "      <td>1.000000</td>\n",
       "    </tr>\n",
       "    <tr>\n",
       "      <th>Rubus</th>\n",
       "      <td>0.763780</td>\n",
       "      <td>0.944882</td>\n",
       "      <td>0.984252</td>\n",
       "    </tr>\n",
       "    <tr>\n",
       "      <th>Senecio</th>\n",
       "      <td>0.824176</td>\n",
       "      <td>0.989011</td>\n",
       "      <td>0.989011</td>\n",
       "    </tr>\n",
       "  </tbody>\n",
       "</table>\n",
       "</div>"
      ],
      "text/plain": [
       "                     top_1     top_3     top_5\n",
       "                      mean      mean      mean\n",
       "labels                                        \n",
       "Abutilon          0.178571  0.750000  0.785714\n",
       "Aleurites         0.555556  0.703704  0.814815\n",
       "Ananas            0.809524  0.904762  0.936508\n",
       "Anthurium         0.581395  0.848837  0.918605\n",
       "Artocarpus        0.750000  0.888889  0.944444\n",
       "Bougainvillea     0.623377  0.870130  0.909091\n",
       "Cocos             0.400000  0.720000  0.880000\n",
       "Cordia            0.724138  0.896552  0.965517\n",
       "Cordyline         0.916667  0.972222  1.000000\n",
       "Cyperus           0.681818  0.909091  0.954545\n",
       "Delairea          0.153846  0.615385  0.846154\n",
       "Dioscorea         0.388889  0.888889  0.916667\n",
       "Heliconia         0.607143  0.946429  0.982143\n",
       "Hibiscus          0.770701  0.974522  1.000000\n",
       "Officinale        0.285714  0.673469  0.836735\n",
       "Panicum           0.551724  0.862069  0.965517\n",
       "Pennisetum        0.208333  0.541667  0.708333\n",
       "Plumeria          0.902439  1.000000  1.000000\n",
       "Portulaca         0.562500  0.875000  0.937500\n",
       "Pritchardia       0.368421  0.736842  0.842105\n",
       "Pseudognaphalium  0.750000  0.916667  1.000000\n",
       "Rubus             0.763780  0.944882  0.984252\n",
       "Senecio           0.824176  0.989011  0.989011"
      ]
     },
     "execution_count": 94,
     "metadata": {},
     "output_type": "execute_result"
    }
   ],
   "source": [
    "top_1 = accuracy_sort[:,-1:].sum(axis=1)>0\n",
    "top_3 = accuracy_sort[:,-3:].sum(axis=1)>0\n",
    "top_5 = accuracy_sort[:,-5:].sum(axis=1)>0\n",
    "\n",
    "comb_all = pd.DataFrame({\n",
    "    \"labels\": valid_labels,\n",
    "    \"top_1\": top_1,\n",
    "    \"top_3\": top_3,\n",
    "    \"top_5\": top_5\n",
    "})\n",
    "comb_all = comb_all.groupby([\"labels\"])\n",
    "comb_all = comb_all.agg(['mean'])\n",
    "comb_all.head(100)"
   ]
  },
  {
   "cell_type": "code",
   "execution_count": 95,
   "metadata": {},
   "outputs": [
    {
     "data": {
      "text/plain": [
       "<matplotlib.axes._subplots.AxesSubplot at 0x2d002eb0be0>"
      ]
     },
     "execution_count": 95,
     "metadata": {},
     "output_type": "execute_result"
    },
    {
     "data": {
      "image/png": "[encoded data removed]",
      "text/plain": [
       "<matplotlib.figure.Figure at 0x2d002e744e0>"
      ]
     },
     "metadata": {
      "needs_background": "light"
     },
     "output_type": "display_data"
    }
   ],
   "source": [
    "import matplotlib.pyplot as plt\n",
    "comb_all.plot.bar(figsize=(19,8), title=\"Top 1, Top 3, Top 5: Accuracy\")"
   ]
  },
  {
   "cell_type": "markdown",
   "metadata": {},
   "source": [
    "## Accuracy Vs. Training Size"
   ]
  },
  {
   "cell_type": "code",
   "execution_count": 149,
   "metadata": {},
   "outputs": [
    {
     "data": {
      "text/html": [
       "<div>\n",
       "<style scoped>\n",
       "    .dataframe tbody tr th:only-of-type {\n",
       "        vertical-align: middle;\n",
       "    }\n",
       "\n",
       "    .dataframe tbody tr th {\n",
       "        vertical-align: top;\n",
       "    }\n",
       "\n",
       "    .dataframe thead th {\n",
       "        text-align: right;\n",
       "    }\n",
       "</style>\n",
       "<table border=\"1\" class=\"dataframe\">\n",
       "  <thead>\n",
       "    <tr style=\"text-align: right;\">\n",
       "      <th></th>\n",
       "      <th>accuracy</th>\n",
       "      <th>train_count</th>\n",
       "    </tr>\n",
       "    <tr>\n",
       "      <th>labels</th>\n",
       "      <th></th>\n",
       "      <th></th>\n",
       "    </tr>\n",
       "  </thead>\n",
       "  <tbody>\n",
       "    <tr>\n",
       "      <th>Abutilon</th>\n",
       "      <td>0.178571</td>\n",
       "      <td>216</td>\n",
       "    </tr>\n",
       "    <tr>\n",
       "      <th>Aleurites</th>\n",
       "      <td>0.555556</td>\n",
       "      <td>309</td>\n",
       "    </tr>\n",
       "    <tr>\n",
       "      <th>Ananas</th>\n",
       "      <td>0.809524</td>\n",
       "      <td>660</td>\n",
       "    </tr>\n",
       "    <tr>\n",
       "      <th>Anthurium</th>\n",
       "      <td>0.581395</td>\n",
       "      <td>804</td>\n",
       "    </tr>\n",
       "    <tr>\n",
       "      <th>Artocarpus</th>\n",
       "      <td>0.750000</td>\n",
       "      <td>309</td>\n",
       "    </tr>\n",
       "    <tr>\n",
       "      <th>Bougainvillea</th>\n",
       "      <td>0.623377</td>\n",
       "      <td>663</td>\n",
       "    </tr>\n",
       "    <tr>\n",
       "      <th>Cocos</th>\n",
       "      <td>0.400000</td>\n",
       "      <td>332</td>\n",
       "    </tr>\n",
       "    <tr>\n",
       "      <th>Cordia</th>\n",
       "      <td>0.724138</td>\n",
       "      <td>295</td>\n",
       "    </tr>\n",
       "    <tr>\n",
       "      <th>Cordyline</th>\n",
       "      <td>0.916667</td>\n",
       "      <td>329</td>\n",
       "    </tr>\n",
       "    <tr>\n",
       "      <th>Cyperus</th>\n",
       "      <td>0.681818</td>\n",
       "      <td>171</td>\n",
       "    </tr>\n",
       "    <tr>\n",
       "      <th>Delairea</th>\n",
       "      <td>0.153846</td>\n",
       "      <td>105</td>\n",
       "    </tr>\n",
       "    <tr>\n",
       "      <th>Dioscorea</th>\n",
       "      <td>0.388889</td>\n",
       "      <td>298</td>\n",
       "    </tr>\n",
       "    <tr>\n",
       "      <th>Heliconia</th>\n",
       "      <td>0.607143</td>\n",
       "      <td>632</td>\n",
       "    </tr>\n",
       "    <tr>\n",
       "      <th>Hibiscus</th>\n",
       "      <td>0.770701</td>\n",
       "      <td>1310</td>\n",
       "    </tr>\n",
       "    <tr>\n",
       "      <th>Officinale</th>\n",
       "      <td>0.285714</td>\n",
       "      <td>566</td>\n",
       "    </tr>\n",
       "    <tr>\n",
       "      <th>Panicum</th>\n",
       "      <td>0.551724</td>\n",
       "      <td>214</td>\n",
       "    </tr>\n",
       "    <tr>\n",
       "      <th>Pennisetum</th>\n",
       "      <td>0.208333</td>\n",
       "      <td>155</td>\n",
       "    </tr>\n",
       "    <tr>\n",
       "      <th>Plumeria</th>\n",
       "      <td>0.902439</td>\n",
       "      <td>760</td>\n",
       "    </tr>\n",
       "    <tr>\n",
       "      <th>Portulaca</th>\n",
       "      <td>0.562500</td>\n",
       "      <td>112</td>\n",
       "    </tr>\n",
       "    <tr>\n",
       "      <th>Pritchardia</th>\n",
       "      <td>0.368421</td>\n",
       "      <td>142</td>\n",
       "    </tr>\n",
       "    <tr>\n",
       "      <th>Pseudognaphalium</th>\n",
       "      <td>0.750000</td>\n",
       "      <td>212</td>\n",
       "    </tr>\n",
       "    <tr>\n",
       "      <th>Rubus</th>\n",
       "      <td>0.763780</td>\n",
       "      <td>1134</td>\n",
       "    </tr>\n",
       "    <tr>\n",
       "      <th>Senecio</th>\n",
       "      <td>0.824176</td>\n",
       "      <td>865</td>\n",
       "    </tr>\n",
       "  </tbody>\n",
       "</table>\n",
       "</div>"
      ],
      "text/plain": [
       "                  accuracy  train_count\n",
       "labels                                 \n",
       "Abutilon          0.178571          216\n",
       "Aleurites         0.555556          309\n",
       "Ananas            0.809524          660\n",
       "Anthurium         0.581395          804\n",
       "Artocarpus        0.750000          309\n",
       "Bougainvillea     0.623377          663\n",
       "Cocos             0.400000          332\n",
       "Cordia            0.724138          295\n",
       "Cordyline         0.916667          329\n",
       "Cyperus           0.681818          171\n",
       "Delairea          0.153846          105\n",
       "Dioscorea         0.388889          298\n",
       "Heliconia         0.607143          632\n",
       "Hibiscus          0.770701         1310\n",
       "Officinale        0.285714          566\n",
       "Panicum           0.551724          214\n",
       "Pennisetum        0.208333          155\n",
       "Plumeria          0.902439          760\n",
       "Portulaca         0.562500          112\n",
       "Pritchardia       0.368421          142\n",
       "Pseudognaphalium  0.750000          212\n",
       "Rubus             0.763780         1134\n",
       "Senecio           0.824176          865"
      ]
     },
     "execution_count": 149,
     "metadata": {},
     "output_type": "execute_result"
    }
   ],
   "source": [
    "# train_ids\n",
    "train_labels   = [id2label[i] for i in train_ids]\n",
    "a              = np.array(train_labels)\n",
    "unique, counts = np.unique(a, return_counts=True)\n",
    "\n",
    "comb_top_1 = pd.DataFrame({\n",
    "    \"labels\": valid_labels,\n",
    "    \"top_1\": top_1,\n",
    "})\n",
    "comb_top_1 = comb_top_1.groupby([\"labels\"])\n",
    "comb_top_1 = comb_top_1.agg({ 'top_1':  ['mean']})\n",
    "comb_top_1.columns = ['accuracy']\n",
    "\n",
    "comb_train = pd.DataFrame({\n",
    "    \"labels\": unique,\n",
    "    \"train_count\": counts\n",
    "})\n",
    "comb_train = comb_train.set_index('labels')\n",
    "\n",
    "# comb_train.head(100)\n",
    "# print(comb_top_1.head(10))\n",
    "# print(comb_train.head(10))\n",
    "comb_train = pd.concat([comb_top_1, comb_train], axis=1, sort=False, join_axes=[comb_top_1.index])\n",
    "\n",
    "comb_train.head(100)"
   ]
  },
  {
   "cell_type": "code",
   "execution_count": 179,
   "metadata": {},
   "outputs": [
    {
     "data": {
      "image/png": "[encoded data removed]",
      "text/plain": [
       "<matplotlib.figure.Figure at 0x2d004c16c50>"
      ]
     },
     "metadata": {
      "needs_background": "light"
     },
     "output_type": "display_data"
    }
   ],
   "source": [
    "import seaborn as sns\n",
    "import matplotlib.pyplot as plt\n",
    "\n",
    "fig, ax = plt.subplots(figsize=(10,5), )\n",
    "\n",
    "ax.set_title(\"Accuracy vs. Count\")\n",
    "\n",
    "sns.regplot(comb_train['train_count'], comb_train['accuracy'], logx = True,ax=ax)\n",
    "\n",
    "plt.show()"
   ]
  }
 ],
 "metadata": {
  "kernelspec": {
   "display_name": "Python [default]",
   "language": "python",
   "name": "python3"
  },
  "language_info": {
   "codemirror_mode": {
    "name": "ipython",
    "version": 3
   },
   "file_extension": ".py",
   "mimetype": "text/x-python",
   "name": "python",
   "nbconvert_exporter": "python",
   "pygments_lexer": "ipython3",
   "version": "3.6.6"
  }
 },
 "nbformat": 4,
 "nbformat_minor": 2
}
