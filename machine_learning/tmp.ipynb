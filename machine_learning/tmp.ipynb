{
 "cells": [
  {
   "cell_type": "markdown",
   "metadata": {},
   "source": [
    "```\n",
    "           model   top_1_accuracy   top_3_accuracy   top_5_accuracy\n",
    "mobilenetv1-1.00           0.6450           0.8559           0.9219 \n",
    "mobilenetv2-1.00           0.5521           0.7786           0.8698 \n",
    "mobilenetv2-1.30           0.5842           0.8290           0.8993 \n",
    "mobilenetv2-1.40           0.6068           0.8490           0.9149 \n",
    "    nasnetmobile           0.5590           0.8056           0.8854 \n",
    "```"
   ]
  }
 ],
 "metadata": {
  "kernelspec": {
   "display_name": "Python [conda env:kaggle]",
   "language": "python",
   "name": "conda-env-kaggle-py"
  },
  "language_info": {
   "codemirror_mode": {
    "name": "ipython",
    "version": 3
   },
   "file_extension": ".py",
   "mimetype": "text/x-python",
   "name": "python",
   "nbconvert_exporter": "python",
   "pygments_lexer": "ipython3",
   "version": "3.6.6"
  }
 },
 "nbformat": 4,
 "nbformat_minor": 2
}
