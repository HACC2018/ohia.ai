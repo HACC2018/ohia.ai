{
 "cells": [
  {
   "cell_type": "code",
   "execution_count": 1,
   "metadata": {},
   "outputs": [
    {
     "name": "stderr",
     "output_type": "stream",
     "text": [
      "Using TensorFlow backend.\n"
     ]
    }
   ],
   "source": [
    "import os, re, glob\n",
    "os.environ['CUDA_DEVICE_ORDER']='PCI_BUS_ID'\n",
    "os.environ['CUDA_VISIBLE_DEVICES']='0'\n",
    "\n",
    "import numpy as np\n",
    "import pandas as pd\n",
    "import tensorflowjs as tfjs\n",
    "\n",
    "from keras import layers, Model, callbacks\n",
    "from keras.optimizers import Adam\n",
    "from keras.applications.nasnet import NASNetMobile\n",
    "from sklearn.model_selection import train_test_split\n",
    "from ohia.metrics import top_1_accuracy, top_3_accuracy, top_5_accuracy\n",
    "from ohia.encoders import FastLabelEncoder\n",
    "from ohia.utils import PlantNetGenerator"
   ]
  },
  {
   "cell_type": "code",
   "execution_count": 2,
   "metadata": {},
   "outputs": [],
   "source": [
    "SEED = 0\n",
    "BATCH_SIZE = 64\n",
    "MODEL_NAME = 'nasnetmobile'\n",
    "FILE_PATH = '/home/matt/repos/ohia.ai/data'\n",
    "IMAGE_DIR = 'resized_images'"
   ]
  },
  {
   "cell_type": "code",
   "execution_count": 3,
   "metadata": {},
   "outputs": [],
   "source": [
    "# get list of images and labels\n",
    "file_list = glob.glob(f'{FILE_PATH}/{IMAGE_DIR}/**/*.jpg', recursive=True)\n",
    "full_label_list = [re.split('/', f)[-2] for f in file_list]\n",
    "full_label_ids = FastLabelEncoder().fit_transform(full_label_list)"
   ]
  },
  {
   "cell_type": "code",
   "execution_count": 4,
   "metadata": {},
   "outputs": [],
   "source": [
    "# split data\n",
    "train_files, valid_files, train_ids, valid_ids \\\n",
    "    = train_test_split(file_list, full_label_ids, test_size=0.1, random_state=SEED)"
   ]
  },
  {
   "cell_type": "code",
   "execution_count": 5,
   "metadata": {},
   "outputs": [],
   "source": [
    "# create generators\n",
    "n_classes = len(np.unique(full_label_list))\n",
    "train_generator = PlantNetGenerator(train_files, train_ids, n_classes, BATCH_SIZE, augment=True)\n",
    "valid_generator = PlantNetGenerator(valid_files, valid_ids, n_classes, BATCH_SIZE, augment=False)"
   ]
  },
  {
   "cell_type": "code",
   "execution_count": null,
   "metadata": {
    "scrolled": true
   },
   "outputs": [
    {
     "name": "stdout",
     "output_type": "stream",
     "text": [
      "Epoch 1/100\n",
      "165/165 [==============================] - 52s 315ms/step - loss: 2.2131 - top_1_accuracy: 0.3830 - top_3_accuracy: 0.5943 - top_5_accuracy: 0.6983 - val_loss: 1.9161 - val_top_1_accuracy: 0.4618 - val_top_3_accuracy: 0.6797 - val_top_5_accuracy: 0.8003\n",
      "Epoch 2/100\n",
      "165/165 [==============================] - 42s 254ms/step - loss: 1.5702 - top_1_accuracy: 0.5489 - top_3_accuracy: 0.7710 - top_5_accuracy: 0.8609 - val_loss: 1.7001 - val_top_1_accuracy: 0.5078 - val_top_3_accuracy: 0.7318 - val_top_5_accuracy: 0.8359\n",
      "Epoch 3/100\n",
      "165/165 [==============================] - 41s 250ms/step - loss: 1.3635 - top_1_accuracy: 0.5966 - top_3_accuracy: 0.8189 - top_5_accuracy: 0.8949 - val_loss: 1.6143 - val_top_1_accuracy: 0.5191 - val_top_3_accuracy: 0.7613 - val_top_5_accuracy: 0.8533\n",
      "Epoch 4/100\n",
      "165/165 [==============================] - 38s 232ms/step - loss: 1.2542 - top_1_accuracy: 0.6257 - top_3_accuracy: 0.8423 - top_5_accuracy: 0.9097 - val_loss: 1.5587 - val_top_1_accuracy: 0.5252 - val_top_3_accuracy: 0.7778 - val_top_5_accuracy: 0.8637\n",
      "Epoch 5/100\n",
      "165/165 [==============================] - 39s 238ms/step - loss: 1.1815 - top_1_accuracy: 0.6466 - top_3_accuracy: 0.8542 - top_5_accuracy: 0.9190 - val_loss: 1.4739 - val_top_1_accuracy: 0.5625 - val_top_3_accuracy: 0.7899 - val_top_5_accuracy: 0.8767\n",
      "Epoch 6/100\n",
      "165/165 [==============================] - 39s 238ms/step - loss: 1.1242 - top_1_accuracy: 0.6554 - top_3_accuracy: 0.8654 - top_5_accuracy: 0.9284 - val_loss: 1.5396 - val_top_1_accuracy: 0.5174 - val_top_3_accuracy: 0.7856 - val_top_5_accuracy: 0.8707\n",
      "Epoch 7/100\n",
      "165/165 [==============================] - 40s 245ms/step - loss: 1.0880 - top_1_accuracy: 0.6757 - top_3_accuracy: 0.8696 - top_5_accuracy: 0.9319 - val_loss: 1.4873 - val_top_1_accuracy: 0.5295 - val_top_3_accuracy: 0.7943 - val_top_5_accuracy: 0.8793\n",
      "Epoch 8/100\n",
      "165/165 [==============================] - 39s 236ms/step - loss: 1.0497 - top_1_accuracy: 0.6849 - top_3_accuracy: 0.8770 - top_5_accuracy: 0.9366 - val_loss: 1.4277 - val_top_1_accuracy: 0.5590 - val_top_3_accuracy: 0.8056 - val_top_5_accuracy: 0.8854\n",
      "Epoch 9/100\n",
      "165/165 [==============================] - 39s 236ms/step - loss: 1.0201 - top_1_accuracy: 0.6885 - top_3_accuracy: 0.8835 - top_5_accuracy: 0.9376 - val_loss: 1.4651 - val_top_1_accuracy: 0.5347 - val_top_3_accuracy: 0.8003 - val_top_5_accuracy: 0.8854\n",
      "Epoch 10/100\n",
      "165/165 [==============================] - 43s 263ms/step - loss: 0.9775 - top_1_accuracy: 0.7080 - top_3_accuracy: 0.8910 - top_5_accuracy: 0.9436 - val_loss: 1.4782 - val_top_1_accuracy: 0.5443 - val_top_3_accuracy: 0.7925 - val_top_5_accuracy: 0.8898\n",
      "Epoch 11/100\n",
      "165/165 [==============================] - 39s 239ms/step - loss: 0.9675 - top_1_accuracy: 0.7024 - top_3_accuracy: 0.8943 - top_5_accuracy: 0.9459 - val_loss: 1.5091 - val_top_1_accuracy: 0.5365 - val_top_3_accuracy: 0.7839 - val_top_5_accuracy: 0.8828\n",
      "\n",
      "Epoch 00011: ReduceLROnPlateau reducing learning rate to 4.999999873689376e-05.\n",
      "Epoch 12/100\n",
      "165/165 [==============================] - 40s 242ms/step - loss: 0.9266 - top_1_accuracy: 0.7188 - top_3_accuracy: 0.8987 - top_5_accuracy: 0.9525 - val_loss: 1.4646 - val_top_1_accuracy: 0.5399 - val_top_3_accuracy: 0.7986 - val_top_5_accuracy: 0.8924\n",
      "Epoch 13/100\n",
      "165/165 [==============================] - 44s 266ms/step - loss: 0.9092 - top_1_accuracy: 0.7226 - top_3_accuracy: 0.9049 - top_5_accuracy: 0.9548 - val_loss: 1.4558 - val_top_1_accuracy: 0.5564 - val_top_3_accuracy: 0.7917 - val_top_5_accuracy: 0.8932\n",
      "Epoch 14/100\n",
      "165/165 [==============================] - 40s 244ms/step - loss: 0.8992 - top_1_accuracy: 0.7264 - top_3_accuracy: 0.9076 - top_5_accuracy: 0.9536 - val_loss: 1.4801 - val_top_1_accuracy: 0.5460 - val_top_3_accuracy: 0.7986 - val_top_5_accuracy: 0.8915\n",
      "\n",
      "Epoch 00014: ReduceLROnPlateau reducing learning rate to 2.499999936844688e-05.\n",
      "Epoch 15/100\n",
      "165/165 [==============================] - 39s 235ms/step - loss: 0.8811 - top_1_accuracy: 0.7331 - top_3_accuracy: 0.9085 - top_5_accuracy: 0.9563 - val_loss: 1.4467 - val_top_1_accuracy: 0.5530 - val_top_3_accuracy: 0.7969 - val_top_5_accuracy: 0.8958\n",
      "Epoch 16/100\n",
      "164/165 [============================>.] - ETA: 0s - loss: 0.8787 - top_1_accuracy: 0.7334 - top_3_accuracy: 0.9089 - top_5_accuracy: 0.9567Epoch 16/100\n",
      "165/165 [==============================] - 39s 237ms/step - loss: 0.8788 - top_1_accuracy: 0.7335 - top_3_accuracy: 0.9091 - top_5_accuracy: 0.9566 - val_loss: 1.4733 - val_top_1_accuracy: 0.5460 - val_top_3_accuracy: 0.7934 - val_top_5_accuracy: 0.8906\n",
      "Epoch 17/100\n",
      " 11/165 [=>............................] - ETA: 1:13 - loss: 0.8464 - top_1_accuracy: 0.7429 - top_3_accuracy: 0.9119 - top_5_accuracy: 0.9574"
     ]
    }
   ],
   "source": [
    "# load pretrained ImageNet model\n",
    "base_model = NASNetMobile(\n",
    "    input_shape=(224,224,3),\n",
    "    weights='imagenet',\n",
    "    include_top=False\n",
    ")\n",
    "\n",
    "# set freeze all layers\n",
    "for layer in base_model.layers:\n",
    "    layer.trainable = False\n",
    "    \n",
    "# map ImageNet features to 39 plants\n",
    "x = base_model.output\n",
    "x = layers.GlobalAveragePooling2D()(x)\n",
    "x = layers.Dense(1024, activation='relu')(x)\n",
    "outputs = layers.Dense(n_classes, activation='softmax')(x)\n",
    "    \n",
    "# compile the model\n",
    "model = Model(inputs=base_model.input, outputs=outputs)\n",
    "model.compile(\n",
    "    optimizer=Adam(lr=0.0001),\n",
    "    loss='categorical_crossentropy',\n",
    "    metrics=[top_1_accuracy, top_3_accuracy, top_5_accuracy]\n",
    ")\n",
    "\n",
    "# define callbacks\n",
    "callbacks_list = [\n",
    "    callbacks.EarlyStopping(\n",
    "        monitor='val_top_3_accuracy',\n",
    "        patience=10,\n",
    "        verbose=1,\n",
    "        mode='max',\n",
    "    ),\n",
    "    callbacks.ReduceLROnPlateau(\n",
    "        monitor='val_top_3_accuracy',\n",
    "        factor=0.5,\n",
    "        patience=3,\n",
    "        verbose=1,\n",
    "        mode='max',\n",
    "    ),\n",
    "    callbacks.ModelCheckpoint(\n",
    "        monitor='val_top_3_accuracy',\n",
    "        filepath=f'{FILE_PATH}/weights/{MODEL_NAME}.h5',\n",
    "        save_best_only=True,\n",
    "        save_weights_only=True,\n",
    "        mode='max',\n",
    "    ),\n",
    "]\n",
    "\n",
    "# train model\n",
    "model.fit_generator(\n",
    "    generator=train_generator,\n",
    "    validation_data=valid_generator,\n",
    "    callbacks=callbacks_list,\n",
    "    use_multiprocessing=True,\n",
    "    workers=20,\n",
    "    epochs=100,    \n",
    ")"
   ]
  },
  {
   "cell_type": "code",
   "execution_count": null,
   "metadata": {},
   "outputs": [],
   "source": [
    "# save model\n",
    "model.load_weights(f'{FILE_PATH}/weights/{MODEL_NAME}.h5')\n",
    "tfjs.converters.save_keras_model(model, f'{FILE_PATH}/models/{MODEL_NAME}')"
   ]
  }
 ],
 "metadata": {
  "kernelspec": {
   "display_name": "Python [conda env:kaggle]",
   "language": "python",
   "name": "conda-env-kaggle-py"
  },
  "language_info": {
   "codemirror_mode": {
    "name": "ipython",
    "version": 3
   },
   "file_extension": ".py",
   "mimetype": "text/x-python",
   "name": "python",
   "nbconvert_exporter": "python",
   "pygments_lexer": "ipython3",
   "version": "3.6.6"
  }
 },
 "nbformat": 4,
 "nbformat_minor": 2
}
