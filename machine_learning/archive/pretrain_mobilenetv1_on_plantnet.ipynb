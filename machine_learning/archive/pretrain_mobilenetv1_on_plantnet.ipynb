{
 "cells": [
  {
   "cell_type": "code",
   "execution_count": 1,
   "metadata": {},
   "outputs": [],
   "source": [
    "FILE_PATH = '/home/matt/repos/ohia.ai/data'"
   ]
  },
  {
   "cell_type": "code",
   "execution_count": 3,
   "metadata": {},
   "outputs": [],
   "source": [
    "model_name = 'mobilenetv1'\n",
    "seed = 1\n",
    "batch_size = 32\n",
    "n_hidden = 0\n",
    "dropout = 0.0\n",
    "filtered = False\n",
    "augmentation = False\n",
    "n_thread = 32\n",
    "gpu = 0\n",
    "save_model = False"
   ]
  },
  {
   "cell_type": "code",
   "execution_count": 4,
   "metadata": {},
   "outputs": [
    {
     "name": "stderr",
     "output_type": "stream",
     "text": [
      "Using TensorFlow backend.\n"
     ]
    }
   ],
   "source": [
    "import os, re, glob, json\n",
    "os.environ['CUDA_DEVICE_ORDER']='PCI_BUS_ID'\n",
    "os.environ['CUDA_VISIBLE_DEVICES']=str(gpu)\n",
    "\n",
    "import numpy as np\n",
    "import pandas as pd\n",
    "\n",
    "from keras import callbacks\n",
    "from sklearn.model_selection import train_test_split\n",
    "\n",
    "from ohia.encoders import FastLabelEncoder\n",
    "\n",
    "from ohia.utils import PlantNetGenerator, make_dir"
   ]
  },
  {
   "cell_type": "code",
   "execution_count": 11,
   "metadata": {},
   "outputs": [
    {
     "name": "stdout",
     "output_type": "stream",
     "text": [
      "/home/matt/repos/ohia.ai/data/models/plantnet_mobilenetv1_seed-1_batch_size-32_n_hidden-0_dropout-0.00\n"
     ]
    }
   ],
   "source": [
    "# set up paths\n",
    "IMAGE_DIR = 'filtered_plantnet'\n",
    "model_path = (\n",
    "    f'{FILE_PATH}/models/plantnet_{model_name}' +\n",
    "    f'_seed-{seed}' +\n",
    "    f'_batch_size-{batch_size}' +\n",
    "    f'_n_hidden-{n_hidden}' +\n",
    "    f'_dropout-{dropout:0.2f}' +\n",
    "    ('_filtered' if filtered else '') +\n",
    "    ('_augmentation' if augmentation else '')\n",
    ")\n",
    "print(model_path)\n",
    "make_dir(model_path)"
   ]
  },
  {
   "cell_type": "code",
   "execution_count": 12,
   "metadata": {
    "scrolled": true
   },
   "outputs": [],
   "source": [
    "model.load_weights(weight_file)# get list of images and labels\n",
    "file_list = glob.glob(f'{FILE_PATH}/{IMAGE_DIR}/**/*.jpg', recursive=True)\n",
    "full_label_list = [re.split('/', f)[-2] for f in file_list]\n",
    "\n",
    "# encode label names with ids\n",
    "fle = FastLabelEncoder()\n",
    "label_ids = fle.fit_transform(full_label_list)\n",
    "\n",
    "# save id2label map\n",
    "id2label = {int(fle.transform([label])):label for label in np.unique(full_label_list)}\n",
    "with open(f'{model_path}/plantnet_classes.json', 'w') as fp:\n",
    "    json.dump(id2label, fp)"
   ]
  },
  {
   "cell_type": "code",
   "execution_count": 13,
   "metadata": {},
   "outputs": [],
   "source": [
    "# split data\n",
    "train_files, valid_files, train_ids, valid_ids \\\n",
    "    = train_test_split(file_list, label_ids, test_size=0.1, random_state=seed)\n",
    "\n",
    "# create generators\n",
    "n_classes = len(np.unique(full_label_list))\n",
    "train_generator = PlantNetGenerator(\n",
    "    train_files, train_ids, n_classes,\n",
    "    batch_size=batch_size,\n",
    "    augment=augmentation\n",
    ")\n",
    "valid_generator = PlantNetGenerator(\n",
    "    valid_files, valid_ids, n_classes,\n",
    "    batch_size=batch_size,\n",
    "    augment=augmentation,\n",
    "    shuffle=False\n",
    ")"
   ]
  },
  {
   "cell_type": "code",
   "execution_count": 14,
   "metadata": {},
   "outputs": [],
   "source": [
    "model.load_weights(weight_file)# define callbacks\n",
    "callbacks_list = [\n",
    "    callbacks.EarlyStopping(\n",
    "        monitor='val_top_3_accuracy',\n",
    "        patience=10,\n",
    "        verbose=1,\n",
    "        mode='max',\n",
    "    ),\n",
    "    callbacks.ReduceLROnPlateau(\n",
    "        monitor='val_top_3_accuracy',\n",
    "        factor=0.25,\n",
    "        patience=2,\n",
    "        verbose=1,\n",
    "        mode='max',\n",
    "    ),\n",
    "    callbacks.ModelCheckpoint(\n",
    "        monitor='val_top_3_accuracy',\n",
    "        filepath=f'{model_path}/weights' + '_{epoch:02d}.h5',\n",
    "        save_best_only=True,\n",
    "        save_weights_only=False,\n",
    "        mode='max',\n",
    "    ),\n",
    "]"
   ]
  },
  {
   "cell_type": "code",
   "execution_count": 15,
   "metadata": {},
   "outputs": [],
   "source": [
    "def get_model(model_name, n_classes, n_hidden, dropout):\n",
    "\n",
    "    from keras import layers, Model\n",
    "    from keras.optimizers import Adam\n",
    "    from keras.applications.mobilenet import MobileNet\n",
    "    from keras.applications.mobilenetv2 import MobileNetV2\n",
    "    from keras.applications.nasnet import NASNetMobile\n",
    "    from ohia.metrics import top_1_accuracy, top_3_accuracy, top_5_accuracy\n",
    "\n",
    "    # load pretrained ImageNet model\n",
    "    if model_name == 'mobilenetv1':\n",
    "        base_model = MobileNet(\n",
    "            input_shape=(224,224,3),\n",
    "            weights='imagenet',\n",
    "            include_top=False\n",
    "        )        \n",
    "    elif model_name == 'mobilenetv2':\n",
    "        base_model = MobileNetV2(\n",
    "            input_shape=(224,224,3),\n",
    "            alpha=1.4,\n",
    "            weights='imagenet',\n",
    "            include_top=False\n",
    "        )\n",
    "    elif model_name == 'nasnetmobile':\n",
    "        base_model = NASNetMobile(\n",
    "            input_shape=(224,224,3),\n",
    "            weights='imagenet',\n",
    "            include_top=False\n",
    "        )\n",
    "    else:\n",
    "        assert ValueError(\n",
    "            f'model_name parameter must be one of the following'\n",
    "            ' \"mobilenetv1\",'\n",
    "            ' \"mobilenetv2\",'\n",
    "            ' \"nasnetmobile\"'\n",
    "        )\n",
    "\n",
    "#     # set freeze all layers\n",
    "#     for layer in base_model.layers:\n",
    "#         if re.findall('_\\\\d_', layer.name):\n",
    "#             print(layer.name)\n",
    "#             layer.trainable = False\n",
    "        \n",
    "    # map ImageNet features to plants\n",
    "    x = base_model.output\n",
    "    x = layers.GlobalAveragePooling2D()(x)\n",
    "    if dropout>0:\n",
    "        x = layers.Dropout(dropout)(x)\n",
    "    outputs = layers.Dense(n_classes, activation='softmax')(x)\n",
    "\n",
    "    # compile the model\n",
    "    model = Model(inputs=base_model.input, outputs=outputs)\n",
    "    model.compile(\n",
    "        optimizer=Adam(lr=0.0001),\n",
    "        loss='categorical_crossentropy',\n",
    "        metrics=[top_1_accuracy, top_3_accuracy, top_5_accuracy]\n",
    "    )\n",
    "\n",
    "    return model"
   ]
  },
  {
   "cell_type": "code",
   "execution_count": 16,
   "metadata": {},
   "outputs": [
    {
     "name": "stdout",
     "output_type": "stream",
     "text": [
      "Epoch 1/100\n",
      "2463/2463 [==============================] - 468s 190ms/step - loss: 3.7791 - top_1_accuracy: 0.2773 - top_3_accuracy: 0.4102 - top_5_accuracy: 0.4724 - val_loss: 2.6635 - val_top_1_accuracy: 0.4328 - val_top_3_accuracy: 0.5964 - val_top_5_accuracy: 0.6605\n",
      "Epoch 2/100\n",
      "2463/2463 [==============================] - 440s 179ms/step - loss: 2.1221 - top_1_accuracy: 0.5420 - top_3_accuracy: 0.6967 - top_5_accuracy: 0.7554 - val_loss: 2.0563 - val_top_1_accuracy: 0.5442 - val_top_3_accuracy: 0.7004 - val_top_5_accuracy: 0.7569\n",
      "Epoch 3/100\n",
      "2463/2463 [==============================] - 443s 180ms/step - loss: 1.5106 - top_1_accuracy: 0.6629 - top_3_accuracy: 0.7988 - top_5_accuracy: 0.8457 - val_loss: 1.8474 - val_top_1_accuracy: 0.5791 - val_top_3_accuracy: 0.7343 - val_top_5_accuracy: 0.7916\n",
      "Epoch 4/100\n",
      "2463/2463 [==============================] - 440s 179ms/step - loss: 1.1079 - top_1_accuracy: 0.7507 - top_3_accuracy: 0.8673 - top_5_accuracy: 0.9038 - val_loss: 1.7359 - val_top_1_accuracy: 0.6016 - val_top_3_accuracy: 0.7534 - val_top_5_accuracy: 0.8070\n",
      "\n",
      "Epoch 5/100\n",
      "2463/2463 [==============================] - 443s 180ms/step - loss: 0.8088 - top_1_accuracy: 0.8214 - top_3_accuracy: 0.9178 - top_5_accuracy: 0.9431 - val_loss: 1.6928 - val_top_1_accuracy: 0.6128 - val_top_3_accuracy: 0.7635 - val_top_5_accuracy: 0.8118\n",
      "Epoch 6/100\n",
      "2463/2463 [==============================] - 442s 179ms/step - loss: 0.5793 - top_1_accuracy: 0.8781 - top_3_accuracy: 0.9519 - top_5_accuracy: 0.9688 - val_loss: 1.6934 - val_top_1_accuracy: 0.6194 - val_top_3_accuracy: 0.7627 - val_top_5_accuracy: 0.8127\n",
      "Epoch 7/100\n",
      "2463/2463 [==============================] - 441s 179ms/step - loss: 0.4020 - top_1_accuracy: 0.9214 - top_3_accuracy: 0.9753 - top_5_accuracy: 0.9848 - val_loss: 1.7365 - val_top_1_accuracy: 0.6169 - val_top_3_accuracy: 0.7650 - val_top_5_accuracy: 0.8142\n",
      "Epoch 8/100\n",
      "2463/2463 [==============================] - 442s 180ms/step - loss: 0.2799 - top_1_accuracy: 0.9498 - top_3_accuracy: 0.9885 - top_5_accuracy: 0.9939 - val_loss: 1.7299 - val_top_1_accuracy: 0.6164 - val_top_3_accuracy: 0.7611 - val_top_5_accuracy: 0.8106\n",
      "Epoch 9/100\n",
      "2463/2463 [==============================] - 441s 179ms/step - loss: 0.1952 - top_1_accuracy: 0.9686 - top_3_accuracy: 0.9951 - top_5_accuracy: 0.9978 - val_loss: 1.7916 - val_top_1_accuracy: 0.6204 - val_top_3_accuracy: 0.7606 - val_top_5_accuracy: 0.8107\n",
      "\n",
      "Epoch 00009: ReduceLROnPlateau reducing learning rate to 2.499999936844688e-05.\n",
      "Epoch 10/100\n",
      "2463/2463 [==============================] - 440s 179ms/step - loss: 0.0800 - top_1_accuracy: 0.9943 - top_3_accuracy: 0.9996 - top_5_accuracy: 0.9998 - val_loss: 1.5809 - val_top_1_accuracy: 0.6550 - val_top_3_accuracy: 0.7902 - val_top_5_accuracy: 0.8367\n",
      "Epoch 11/100\n",
      "2463/2463 [==============================] - 440s 179ms/step - loss: 0.0528 - top_1_accuracy: 0.9978 - top_3_accuracy: 0.9999 - top_5_accuracy: 1.0000 - val_loss: 1.5848 - val_top_1_accuracy: 0.6553 - val_top_3_accuracy: 0.7877 - val_top_5_accuracy: 0.8353\n",
      "Epoch 12/100\n",
      "2463/2463 [==============================] - 441s 179ms/step - loss: 0.0414 - top_1_accuracy: 0.9987 - top_3_accuracy: 0.9999 - top_5_accuracy: 1.0000 - val_loss: 1.6174 - val_top_1_accuracy: 0.6560 - val_top_3_accuracy: 0.7862 - val_top_5_accuracy: 0.8342\n",
      "\n",
      "Epoch 00012: ReduceLROnPlateau reducing learning rate to 6.24999984211172e-06.\n",
      "Epoch 13/100\n",
      "2463/2463 [==============================] - 443s 180ms/step - loss: 0.0295 - top_1_accuracy: 0.9995 - top_3_accuracy: 1.0000 - top_5_accuracy: 1.0000 - val_loss: 1.5919 - val_top_1_accuracy: 0.6622 - val_top_3_accuracy: 0.7930 - val_top_5_accuracy: 0.8387\n",
      "Epoch 14/100\n",
      "2463/2463 [==============================] - 438s 178ms/step - loss: 0.0255 - top_1_accuracy: 0.9996 - top_3_accuracy: 1.0000 - top_5_accuracy: 1.0000 - val_loss: 1.5894 - val_top_1_accuracy: 0.6654 - val_top_3_accuracy: 0.7904 - val_top_5_accuracy: 0.8404\n",
      "Epoch 15/100\n",
      "2463/2463 [==============================] - 442s 179ms/step - loss: 0.0234 - top_1_accuracy: 0.9996 - top_3_accuracy: 1.0000 - top_5_accuracy: 1.0000 - val_loss: 1.5863 - val_top_1_accuracy: 0.6644 - val_top_3_accuracy: 0.7941 - val_top_5_accuracy: 0.8418\n",
      "Epoch 16/100\n",
      "2463/2463 [==============================] - 438s 178ms/step - loss: 0.0216 - top_1_accuracy: 0.9996 - top_3_accuracy: 1.0000 - top_5_accuracy: 1.0000 - val_loss: 1.5948 - val_top_1_accuracy: 0.6629 - val_top_3_accuracy: 0.7925 - val_top_5_accuracy: 0.8397\n",
      "Epoch 17/100\n",
      "2463/2463 [==============================] - 442s 179ms/step - loss: 0.0202 - top_1_accuracy: 0.9997 - top_3_accuracy: 1.0000 - top_5_accuracy: 1.0000 - val_loss: 1.5962 - val_top_1_accuracy: 0.6648 - val_top_3_accuracy: 0.7938 - val_top_5_accuracy: 0.8402\n",
      "\n",
      "Epoch 00017: ReduceLROnPlateau reducing learning rate to 1.56249996052793e-06.\n",
      "Epoch 18/100\n",
      "2463/2463 [==============================] - 442s 179ms/step - loss: 0.0184 - top_1_accuracy: 0.9998 - top_3_accuracy: 1.0000 - top_5_accuracy: 1.0000 - val_loss: 1.5945 - val_top_1_accuracy: 0.6660 - val_top_3_accuracy: 0.7932 - val_top_5_accuracy: 0.8411\n",
      "Epoch 19/100\n",
      "2463/2463 [==============================] - 442s 179ms/step - loss: 0.0176 - top_1_accuracy: 0.9998 - top_3_accuracy: 1.0000 - top_5_accuracy: 1.0000 - val_loss: 1.5956 - val_top_1_accuracy: 0.6655 - val_top_3_accuracy: 0.7958 - val_top_5_accuracy: 0.8420\n",
      "Epoch 20/100\n",
      "2463/2463 [==============================] - 439s 178ms/step - loss: 0.0173 - top_1_accuracy: 0.9998 - top_3_accuracy: 1.0000 - top_5_accuracy: 1.0000 - val_loss: 1.5961 - val_top_1_accuracy: 0.6658 - val_top_3_accuracy: 0.7930 - val_top_5_accuracy: 0.8410\n",
      "Epoch 21/100\n",
      "2463/2463 [==============================] - 445s 180ms/step - loss: 0.0169 - top_1_accuracy: 0.9998 - top_3_accuracy: 1.0000 - top_5_accuracy: 1.0000 - val_loss: 1.6003 - val_top_1_accuracy: 0.6640 - val_top_3_accuracy: 0.7942 - val_top_5_accuracy: 0.8401\n",
      "\n",
      "Epoch 00021: ReduceLROnPlateau reducing learning rate to 3.906249901319825e-07.\n",
      "Epoch 22/100\n",
      "2463/2463 [==============================] - 441s 179ms/step - loss: 0.0163 - top_1_accuracy: 0.9998 - top_3_accuracy: 1.0000 - top_5_accuracy: 1.0000 - val_loss: 1.6004 - val_top_1_accuracy: 0.6651 - val_top_3_accuracy: 0.7934 - val_top_5_accuracy: 0.8403\n",
      "Epoch 23/100\n",
      "2463/2463 [==============================] - 446s 181ms/step - loss: 0.0163 - top_1_accuracy: 0.9998 - top_3_accuracy: 1.0000 - top_5_accuracy: 1.0000 - val_loss: 1.5990 - val_top_1_accuracy: 0.6644 - val_top_3_accuracy: 0.7943 - val_top_5_accuracy: 0.8417\n",
      "\n",
      "Epoch 00023: ReduceLROnPlateau reducing learning rate to 9.765624753299562e-08.\n",
      "Epoch 24/100\n",
      "2463/2463 [==============================] - 442s 179ms/step - loss: 0.0165 - top_1_accuracy: 0.9998 - top_3_accuracy: 1.0000 - top_5_accuracy: 1.0000 - val_loss: 1.5987 - val_top_1_accuracy: 0.6663 - val_top_3_accuracy: 0.7937 - val_top_5_accuracy: 0.8407\n",
      "Epoch 25/100\n",
      "2463/2463 [==============================] - 443s 180ms/step - loss: 0.0163 - top_1_accuracy: 0.9997 - top_3_accuracy: 1.0000 - top_5_accuracy: 1.0000 - val_loss: 1.6013 - val_top_1_accuracy: 0.6651 - val_top_3_accuracy: 0.7935 - val_top_5_accuracy: 0.8411\n",
      "2463/2463 [==============================] - 442s 179ms/step - loss: 0.0165 - top_1_accuracy: 0.9998 - top_3_accuracy: 1.0000 - top_5_accuracy: 1.0000 - val_loss: 1.5987 - val_top_1_accuracy: 0.6663 - val_top_3_accuracy: 0.7937 - val_top_5_accuracy: 0.8407\n",
      "\n",
      "Epoch 00025: ReduceLROnPlateau reducing learning rate to 2.4414061883248905e-08.\n",
      "Epoch 26/100\n",
      "2463/2463 [==============================] - 446s 181ms/step - loss: 0.0161 - top_1_accuracy: 0.9998 - top_3_accuracy: 1.0000 - top_5_accuracy: 1.0000 - val_loss: 1.5991 - val_top_1_accuracy: 0.6661 - val_top_3_accuracy: 0.7935 - val_top_5_accuracy: 0.8402\n",
      "Epoch 27/100\n",
      "2463/2463 [==============================] - 443s 180ms/step - loss: 0.0162 - top_1_accuracy: 0.9997 - top_3_accuracy: 1.0000 - top_5_accuracy: 1.0000 - val_loss: 1.6002 - val_top_1_accuracy: 0.6659 - val_top_3_accuracy: 0.7944 - val_top_5_accuracy: 0.8401\n",
      "\n",
      "Epoch 00027: ReduceLROnPlateau reducing learning rate to 6.103515470812226e-09.\n",
      "Epoch 28/100\n",
      "2463/2463 [==============================] - 443s 180ms/step - loss: 0.0162 - top_1_accuracy: 0.9998 - top_3_accuracy: 1.0000 - top_5_accuracy: 1.0000 - val_loss: 1.5986 - val_top_1_accuracy: 0.6655 - val_top_3_accuracy: 0.7940 - val_top_5_accuracy: 0.8409\n",
      "Epoch 29/100\n",
      "2463/2463 [==============================] - 442s 179ms/step - loss: 0.0159 - top_1_accuracy: 0.9998 - top_3_accuracy: 1.0000 - top_5_accuracy: 1.0000 - val_loss: 1.6002 - val_top_1_accuracy: 0.6656 - val_top_3_accuracy: 0.7945 - val_top_5_accuracy: 0.8408\n",
      "\n",
      "Epoch 00029: ReduceLROnPlateau reducing learning rate to 1.5258788677030566e-09.\n",
      "Epoch 00029: early stopping\n"
     ]
    },
    {
     "data": {
      "text/plain": [
       "<keras.callbacks.History at 0x7f34af174588>"
      ]
     },
     "execution_count": 16,
     "metadata": {},
     "output_type": "execute_result"
    }
   ],
   "source": [
    "# train model \n",
    "model = get_model(model_name, n_classes, n_hidden, dropout)\n",
    "model.fit_generator(\n",
    "    generator=train_generator,\n",
    "    validation_data=valid_generator,\n",
    "    callbacks=callbacks_list,\n",
    "    use_multiprocessing=True,\n",
    "    workers=n_thread,\n",
    "    epochs=100,    \n",
    ")"
   ]
  },
  {
   "cell_type": "code",
   "execution_count": 17,
   "metadata": {},
   "outputs": [],
   "source": [
    "# save results\n",
    "results = pd.DataFrame(model.history.history)\n",
    "results.to_csv(f'{model_path}/results.csv', index=False)"
   ]
  },
  {
   "cell_type": "code",
   "execution_count": 18,
   "metadata": {},
   "outputs": [
    {
     "name": "stdout",
     "output_type": "stream",
     "text": [
      "val_loss              1.595575\n",
      "val_top_1_accuracy    0.665522\n",
      "val_top_3_accuracy    0.795788\n",
      "val_top_5_accuracy    0.842033\n",
      "loss                  0.017637\n",
      "top_1_accuracy        0.999784\n",
      "top_3_accuracy        1.000000\n",
      "top_5_accuracy        1.000000\n",
      "lr                    0.000002\n",
      "Name: 18, dtype: float64\n"
     ]
    }
   ],
   "source": [
    "# print best results\n",
    "print(results.iloc[results.val_top_3_accuracy.values.argmax()])"
   ]
  },
  {
   "cell_type": "code",
   "execution_count": null,
   "metadata": {},
   "outputs": [],
   "source": []
  }
 ],
 "metadata": {
  "kernelspec": {
   "display_name": "Python [default]",
   "language": "python",
   "name": "python3"
  },
  "language_info": {
   "codemirror_mode": {
    "name": "ipython",
    "version": 3
   },
   "file_extension": ".py",
   "mimetype": "text/x-python",
   "name": "python",
   "nbconvert_exporter": "python",
   "pygments_lexer": "ipython3",
   "version": "3.6.6"
  }
 },
 "nbformat": 4,
 "nbformat_minor": 2
}
