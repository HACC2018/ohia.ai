{
 "cells": [
  {
   "cell_type": "code",
   "execution_count": 1,
   "metadata": {},
   "outputs": [],
   "source": [
    "FILE_PATH = '/home/matt/repos/ohia.ai/data'"
   ]
  },
  {
   "cell_type": "code",
   "execution_count": 2,
   "metadata": {},
   "outputs": [],
   "source": [
    "model_name = 'mobilenetv2'\n",
    "dataset = 'plantnet'\n",
    "\n",
    "seed = 1\n",
    "batch_size = 32\n",
    "\n",
    "filtered = False\n",
    "augmentation = False\n",
    "\n",
    "n_thread = 32\n",
    "gpu = 0\n",
    "\n",
    "save_model = False"
   ]
  },
  {
   "cell_type": "code",
   "execution_count": 6,
   "metadata": {},
   "outputs": [
    {
     "name": "stdout",
     "output_type": "stream",
     "text": [
      "/home/matt/repos/ohia.ai/data/models/plantnet_seed-1_batch_size-32\n"
     ]
    }
   ],
   "source": [
    "# set up paths\n",
    "IMAGE_DIR = 'filtered_plantnet'\n",
    "model_path = (\n",
    "    f'{FILE_PATH}/models/' + \n",
    "    f'{dataset}' +\n",
    "    ('_filtered' if filtered else '') +\n",
    "    f'_seed-{seed}' +\n",
    "    f'_batch_size-{batch_size}' +\n",
    "    ('_augmentation' if augmentation else '')\n",
    ")\n",
    "print(model_path)\n",
    "make_dir(model_path)"
   ]
  },
  {
   "cell_type": "code",
   "execution_count": 5,
   "metadata": {
    "scrolled": true
   },
   "outputs": [],
   "source": [
    "# get list of images and labels\n",
    "file_list = glob.glob(f'{FILE_PATH}/{IMAGE_DIR}/**/*.jpg', recursive=True)\n",
    "full_label_list = [re.split('/', f)[-2] for f in file_list]\n",
    "\n",
    "# encode label names with ids\n",
    "fle = FastLabelEncoder()\n",
    "label_ids = fle.fit_transform(full_label_list)\n",
    "\n",
    "# save id2label map\n",
    "id2label = {int(fle.transform([label])):label for label in np.unique(full_label_list)}\n",
    "with open(f'{model_path}/plantnet_classes.json', 'w') as fp:\n",
    "    json.dump(id2label, fp)"
   ]
  },
  {
   "cell_type": "code",
   "execution_count": 6,
   "metadata": {},
   "outputs": [],
   "source": [
    "# split data\n",
    "train_files, valid_files, train_ids, valid_ids \\\n",
    "    = train_test_split(file_list, label_ids, test_size=0.1, random_state=seed)\n",
    "\n",
    "# create generators\n",
    "n_classes = len(np.unique(full_label_list))\n",
    "train_generator = PlantNetGenerator(\n",
    "    train_files, train_ids, n_classes,\n",
    "    batch_size=batch_size,\n",
    "    augment=augmentation\n",
    ")\n",
    "valid_generator = PlantNetGenerator(\n",
    "    valid_files, valid_ids, n_classes,\n",
    "    batch_size=batch_size,\n",
    "    augment=augmentation,\n",
    "    shuffle=False\n",
    ")"
   ]
  },
  {
   "cell_type": "code",
   "execution_count": 7,
   "metadata": {},
   "outputs": [],
   "source": [
    "# define callbacks\n",
    "callbacks_list = [\n",
    "    callbacks.EarlyStopping(\n",
    "        monitor='val_top_3_accuracy',\n",
    "        patience=10,\n",
    "        verbose=1,\n",
    "        mode='max',\n",
    "    ),\n",
    "    callbacks.ReduceLROnPlateau(\n",
    "        monitor='val_top_3_accuracy',\n",
    "        factor=0.25,\n",
    "        patience=2,\n",
    "        verbose=1,\n",
    "        mode='max',\n",
    "    ),\n",
    "    callbacks.ModelCheckpoint(\n",
    "        monitor='val_top_3_accuracy',\n",
    "        filepath=f'{model_path}/weights' + '_{epoch:02d}.h5',\n",
    "        save_best_only=True,\n",
    "        save_weights_only=False,\n",
    "        mode='max',\n",
    "    ),\n",
    "]"
   ]
  },
  {
   "cell_type": "code",
   "execution_count": 8,
   "metadata": {},
   "outputs": [],
   "source": [
    "def get_model(model_name, n_classes, n_hidden, dropout):\n",
    "\n",
    "    from keras import layers, Model\n",
    "    from keras.optimizers import Adam\n",
    "    from keras.applications.mobilenet import MobileNet\n",
    "    from keras.applications.mobilenetv2 import MobileNetV2\n",
    "    from keras.applications.nasnet import NASNetMobile\n",
    "    from ohia.metrics import top_1_accuracy, top_3_accuracy, top_5_accuracy\n",
    "\n",
    "    import keras.backend as K\n",
    "    K.clear_session()\n",
    "    \n",
    "    # load pretrained ImageNet model\n",
    "    if model_name == 'mobilenetv1':\n",
    "        base_model = MobileNet(\n",
    "            input_shape=(224,224,3),\n",
    "            weights='imagenet',\n",
    "            include_top=False\n",
    "        )        \n",
    "    elif model_name == 'mobilenetv2':\n",
    "        base_model = MobileNetV2(\n",
    "            input_shape=(224,224,3),\n",
    "            alpha=1.4,\n",
    "            weights='imagenet',\n",
    "            include_top=False\n",
    "        )\n",
    "    elif model_name == 'nasnetmobile':\n",
    "        base_model = NASNetMobile(\n",
    "            input_shape=(224,224,3),\n",
    "            weights='imagenet',\n",
    "            include_top=False\n",
    "        )\n",
    "    else:\n",
    "        assert ValueError(\n",
    "            f'model_name parameter must be one of the following'\n",
    "            ' \"mobilenetv1\",'\n",
    "            ' \"mobilenetv2\",'\n",
    "            ' \"nasnetmobile\"'\n",
    "        )\n",
    "\n",
    "#     # set freeze all layers\n",
    "#     for layer in base_model.layers:\n",
    "#         if re.findall('_\\\\d_', layer.name):\n",
    "#             print(layer.name)\n",
    "#             layer.trainable = False\n",
    "        \n",
    "    # map ImageNet features to plants\n",
    "    x = base_model.output\n",
    "    x = layers.GlobalAveragePooling2D()(x)\n",
    "    if dropout>0:\n",
    "        x = layers.Dropout(dropout)(x)\n",
    "    outputs = layers.Dense(n_classes, activation='softmax')(x)\n",
    "\n",
    "    # compile the model\n",
    "    model = Model(inputs=base_model.input, outputs=outputs)\n",
    "    model.compile(\n",
    "        optimizer=Adam(lr=0.0001),\n",
    "        loss='categorical_crossentropy',\n",
    "        metrics=[top_1_accuracy, top_3_accuracy, top_5_accuracy]\n",
    "    )\n",
    "\n",
    "    return model"
   ]
  },
  {
   "cell_type": "code",
   "execution_count": 11,
   "metadata": {
    "scrolled": true
   },
   "outputs": [
    {
     "name": "stdout",
     "output_type": "stream",
     "text": [
      "Epoch 1/100\n",
      "2463/2463 [==============================] - 765s 311ms/step - loss: 3.1249 - top_1_accuracy: 0.3654 - top_3_accuracy: 0.5146 - top_5_accuracy: 0.5782 - val_loss: 2.3217 - val_top_1_accuracy: 0.4839 - val_top_3_accuracy: 0.6438 - val_top_5_accuracy: 0.7128\n",
      "Epoch 2/100\n",
      "2463/2463 [==============================] - 760s 309ms/step - loss: 1.5972 - top_1_accuracy: 0.6312 - top_3_accuracy: 0.7777 - top_5_accuracy: 0.8274 - val_loss: 1.9982 - val_top_1_accuracy: 0.5472 - val_top_3_accuracy: 0.7106 - val_top_5_accuracy: 0.7687\n",
      "Epoch 3/100\n",
      "2463/2463 [==============================] - 772s 313ms/step - loss: 1.0751 - top_1_accuracy: 0.7423 - top_3_accuracy: 0.8643 - top_5_accuracy: 0.9011 - val_loss: 1.9070 - val_top_1_accuracy: 0.5702 - val_top_3_accuracy: 0.7226 - val_top_5_accuracy: 0.7774\n",
      "Epoch 4/100\n",
      "2463/2463 [==============================] - 761s 309ms/step - loss: 0.7501 - top_1_accuracy: 0.8150 - top_3_accuracy: 0.9166 - top_5_accuracy: 0.9435 - val_loss: 1.7947 - val_top_1_accuracy: 0.5902 - val_top_3_accuracy: 0.7408 - val_top_5_accuracy: 0.7912\n",
      "Epoch 5/100\n",
      "2463/2463 [==============================] - 755s 307ms/step - loss: 0.5230 - top_1_accuracy: 0.8689 - top_3_accuracy: 0.9521 - top_5_accuracy: 0.9697 - val_loss: 1.9425 - val_top_1_accuracy: 0.5673 - val_top_3_accuracy: 0.7226 - val_top_5_accuracy: 0.7790\n",
      "Epoch 6/100\n",
      "2463/2463 [==============================] - 756s 307ms/step - loss: 0.3729 - top_1_accuracy: 0.9067 - top_3_accuracy: 0.9722 - top_5_accuracy: 0.9835 - val_loss: 1.9759 - val_top_1_accuracy: 0.5818 - val_top_3_accuracy: 0.7400 - val_top_5_accuracy: 0.7969\n",
      "\n",
      "Epoch 00006: ReduceLROnPlateau reducing learning rate to 2.499999936844688e-05.\n",
      "Epoch 7/100\n",
      "2463/2463 [==============================] - 716s 291ms/step - loss: 0.1392 - top_1_accuracy: 0.9741 - top_3_accuracy: 0.9954 - top_5_accuracy: 0.9977 - val_loss: 1.3368 - val_top_1_accuracy: 0.7083 - val_top_3_accuracy: 0.8297 - val_top_5_accuracy: 0.8690\n",
      "Epoch 8/100\n",
      "2463/2463 [==============================] - 711s 289ms/step - loss: 0.0770 - top_1_accuracy: 0.9903 - top_3_accuracy: 0.9987 - top_5_accuracy: 0.9994 - val_loss: 1.3672 - val_top_1_accuracy: 0.6985 - val_top_3_accuracy: 0.8306 - val_top_5_accuracy: 0.8693\n",
      "Epoch 9/100\n",
      "2463/2463 [==============================] - 712s 289ms/step - loss: 0.0547 - top_1_accuracy: 0.9942 - top_3_accuracy: 0.9996 - top_5_accuracy: 0.9998 - val_loss: 1.4205 - val_top_1_accuracy: 0.7008 - val_top_3_accuracy: 0.8292 - val_top_5_accuracy: 0.8662\n",
      "Epoch 10/100\n",
      "2463/2463 [==============================] - 735s 298ms/step - loss: 0.0414 - top_1_accuracy: 0.9964 - top_3_accuracy: 0.9998 - top_5_accuracy: 0.9999 - val_loss: 1.4401 - val_top_1_accuracy: 0.6969 - val_top_3_accuracy: 0.8235 - val_top_5_accuracy: 0.8664\n",
      "Epoch 10/100\n",
      "\n",
      "Epoch 00010: ReduceLROnPlateau reducing learning rate to 6.24999984211172e-06.\n",
      "Epoch 11/100\n",
      "2462/2463 [============================>.] - ETA: 0s - loss: 0.0257 - top_1_accuracy: 0.9985 - top_3_accuracy: 0.9999 - top_5_accuracy: 1.0000\n",
      "Epoch 11/100\n",
      "2463/2463 [==============================] - 757s 307ms/step - loss: 0.0257 - top_1_accuracy: 0.9985 - top_3_accuracy: 0.9999 - top_5_accuracy: 1.0000 - val_loss: 1.3464 - val_top_1_accuracy: 0.7184 - val_top_3_accuracy: 0.8352 - val_top_5_accuracy: 0.8751\n",
      "Epoch 12/100\n",
      "2463/2463 [==============================] - 761s 309ms/step - loss: 0.0210 - top_1_accuracy: 0.9990 - top_3_accuracy: 1.0000 - top_5_accuracy: 1.0000 - val_loss: 1.3548 - val_top_1_accuracy: 0.7175 - val_top_3_accuracy: 0.8365 - val_top_5_accuracy: 0.8739\n",
      "Epoch 13/100\n",
      "2463/2463 [==============================] - 758s 308ms/step - loss: 0.0184 - top_1_accuracy: 0.9992 - top_3_accuracy: 1.0000 - top_5_accuracy: 1.0000 - val_loss: 1.3660 - val_top_1_accuracy: 0.7181 - val_top_3_accuracy: 0.8393 - val_top_5_accuracy: 0.8756\n",
      "Epoch 14/100\n",
      "2463/2463 [==============================] - 754s 306ms/step - loss: 0.0167 - top_1_accuracy: 0.9993 - top_3_accuracy: 1.0000 - top_5_accuracy: 1.0000 - val_loss: 1.3664 - val_top_1_accuracy: 0.7184 - val_top_3_accuracy: 0.8375 - val_top_5_accuracy: 0.8737\n",
      "Epoch 15/100\n",
      "2463/2463 [==============================] - 724s 294ms/step - loss: 0.0147 - top_1_accuracy: 0.9995 - top_3_accuracy: 1.0000 - top_5_accuracy: 1.0000 - val_loss: 1.3780 - val_top_1_accuracy: 0.7161 - val_top_3_accuracy: 0.8337 - val_top_5_accuracy: 0.8752\n",
      "\n",
      "Epoch 00015: ReduceLROnPlateau reducing learning rate to 1.56249996052793e-06.\n",
      "Epoch 16/100\n",
      "2463/2463 [==============================] - 714s 290ms/step - loss: 0.0126 - top_1_accuracy: 0.9996 - top_3_accuracy: 1.0000 - top_5_accuracy: 1.0000 - val_loss: 1.3676 - val_top_1_accuracy: 0.7193 - val_top_3_accuracy: 0.8363 - val_top_5_accuracy: 0.8768\n",
      "Epoch 17/100\n",
      "2463/2463 [==============================] - 714s 290ms/step - loss: 0.0125 - top_1_accuracy: 0.9995 - top_3_accuracy: 1.0000 - top_5_accuracy: 1.0000 - val_loss: 1.3672 - val_top_1_accuracy: 0.7199 - val_top_3_accuracy: 0.8377 - val_top_5_accuracy: 0.8781\n",
      "\n",
      "Epoch 00017: ReduceLROnPlateau reducing learning rate to 3.906249901319825e-07.\n",
      "Epoch 18/100\n",
      " 934/2463 [==========>...................] - ETA: 7:05 - loss: 0.0113 - top_1_accuracy: 0.9997 - top_3_accuracy: 1.0000 - top_5_accuracy: 1.0000"
     ]
    },
    {
     "ename": "FileNotFoundError",
     "evalue": "[Errno 2] No such file or directory: '/home/matt/repos/ohia.ai/data/filtered_plantnet/12807/337211.jpg'",
     "output_type": "error",
     "traceback": [
      "\u001b[0;31m---------------------------------------------------------------------------\u001b[0m",
      "\u001b[0;31mRemoteTraceback\u001b[0m                           Traceback (most recent call last)",
      "\u001b[0;31mRemoteTraceback\u001b[0m: \n\"\"\"\nTraceback (most recent call last):\n  File \"/home/matt/anaconda3/envs/kaggle/lib/python3.6/multiprocessing/pool.py\", line 119, in worker\n    result = (True, func(*args, **kwds))\n  File \"/home/matt/anaconda3/envs/kaggle/lib/python3.6/site-packages/keras/utils/data_utils.py\", line 401, in get_index\n    return _SHARED_SEQUENCES[uid][i]\n  File \"/home/matt/repos/ohia.ai/machine_learning/ohia/utils.py\", line 140, in __getitem__\n    img = Image.open(f)\n  File \"/home/matt/anaconda3/envs/kaggle/lib/python3.6/site-packages/PIL/Image.py\", line 2580, in open\n    fp = builtins.open(filename, \"rb\")\nFileNotFoundError: [Errno 2] No such file or directory: '/home/matt/repos/ohia.ai/data/filtered_plantnet/12807/337211.jpg'\n\"\"\"",
      "\nThe above exception was the direct cause of the following exception:\n",
      "\u001b[0;31mFileNotFoundError\u001b[0m                         Traceback (most recent call last)",
      "\u001b[0;32m<ipython-input-11-d644080514e4>\u001b[0m in \u001b[0;36m<module>\u001b[0;34m()\u001b[0m\n\u001b[1;32m      7\u001b[0m     \u001b[0muse_multiprocessing\u001b[0m\u001b[0;34m=\u001b[0m\u001b[0;32mTrue\u001b[0m\u001b[0;34m,\u001b[0m\u001b[0;34m\u001b[0m\u001b[0m\n\u001b[1;32m      8\u001b[0m     \u001b[0mworkers\u001b[0m\u001b[0;34m=\u001b[0m\u001b[0mn_thread\u001b[0m\u001b[0;34m,\u001b[0m\u001b[0;34m\u001b[0m\u001b[0m\n\u001b[0;32m----> 9\u001b[0;31m     \u001b[0mepochs\u001b[0m\u001b[0;34m=\u001b[0m\u001b[0;36m100\u001b[0m\u001b[0;34m,\u001b[0m\u001b[0;34m\u001b[0m\u001b[0m\n\u001b[0m\u001b[1;32m     10\u001b[0m )\n",
      "\u001b[0;32m~/anaconda3/envs/kaggle/lib/python3.6/site-packages/keras/legacy/interfaces.py\u001b[0m in \u001b[0;36mwrapper\u001b[0;34m(*args, **kwargs)\u001b[0m\n\u001b[1;32m     89\u001b[0m                 warnings.warn('Update your `' + object_name + '` call to the ' +\n\u001b[1;32m     90\u001b[0m                               'Keras 2 API: ' + signature, stacklevel=2)\n\u001b[0;32m---> 91\u001b[0;31m             \u001b[0;32mreturn\u001b[0m \u001b[0mfunc\u001b[0m\u001b[0;34m(\u001b[0m\u001b[0;34m*\u001b[0m\u001b[0margs\u001b[0m\u001b[0;34m,\u001b[0m \u001b[0;34m**\u001b[0m\u001b[0mkwargs\u001b[0m\u001b[0;34m)\u001b[0m\u001b[0;34m\u001b[0m\u001b[0m\n\u001b[0m\u001b[1;32m     92\u001b[0m         \u001b[0mwrapper\u001b[0m\u001b[0;34m.\u001b[0m\u001b[0m_original_function\u001b[0m \u001b[0;34m=\u001b[0m \u001b[0mfunc\u001b[0m\u001b[0;34m\u001b[0m\u001b[0m\n\u001b[1;32m     93\u001b[0m         \u001b[0;32mreturn\u001b[0m \u001b[0mwrapper\u001b[0m\u001b[0;34m\u001b[0m\u001b[0m\n",
      "\u001b[0;32m~/anaconda3/envs/kaggle/lib/python3.6/site-packages/keras/engine/training.py\u001b[0m in \u001b[0;36mfit_generator\u001b[0;34m(self, generator, steps_per_epoch, epochs, verbose, callbacks, validation_data, validation_steps, class_weight, max_queue_size, workers, use_multiprocessing, shuffle, initial_epoch)\u001b[0m\n\u001b[1;32m   1416\u001b[0m             \u001b[0muse_multiprocessing\u001b[0m\u001b[0;34m=\u001b[0m\u001b[0muse_multiprocessing\u001b[0m\u001b[0;34m,\u001b[0m\u001b[0;34m\u001b[0m\u001b[0m\n\u001b[1;32m   1417\u001b[0m             \u001b[0mshuffle\u001b[0m\u001b[0;34m=\u001b[0m\u001b[0mshuffle\u001b[0m\u001b[0;34m,\u001b[0m\u001b[0;34m\u001b[0m\u001b[0m\n\u001b[0;32m-> 1418\u001b[0;31m             initial_epoch=initial_epoch)\n\u001b[0m\u001b[1;32m   1419\u001b[0m \u001b[0;34m\u001b[0m\u001b[0m\n\u001b[1;32m   1420\u001b[0m     \u001b[0;34m@\u001b[0m\u001b[0minterfaces\u001b[0m\u001b[0;34m.\u001b[0m\u001b[0mlegacy_generator_methods_support\u001b[0m\u001b[0;34m\u001b[0m\u001b[0m\n",
      "\u001b[0;32m~/anaconda3/envs/kaggle/lib/python3.6/site-packages/keras/engine/training_generator.py\u001b[0m in \u001b[0;36mfit_generator\u001b[0;34m(model, generator, steps_per_epoch, epochs, verbose, callbacks, validation_data, validation_steps, class_weight, max_queue_size, workers, use_multiprocessing, shuffle, initial_epoch)\u001b[0m\n\u001b[1;32m    179\u001b[0m             \u001b[0mbatch_index\u001b[0m \u001b[0;34m=\u001b[0m \u001b[0;36m0\u001b[0m\u001b[0;34m\u001b[0m\u001b[0m\n\u001b[1;32m    180\u001b[0m             \u001b[0;32mwhile\u001b[0m \u001b[0msteps_done\u001b[0m \u001b[0;34m<\u001b[0m \u001b[0msteps_per_epoch\u001b[0m\u001b[0;34m:\u001b[0m\u001b[0;34m\u001b[0m\u001b[0m\n\u001b[0;32m--> 181\u001b[0;31m                 \u001b[0mgenerator_output\u001b[0m \u001b[0;34m=\u001b[0m \u001b[0mnext\u001b[0m\u001b[0;34m(\u001b[0m\u001b[0moutput_generator\u001b[0m\u001b[0;34m)\u001b[0m\u001b[0;34m\u001b[0m\u001b[0m\n\u001b[0m\u001b[1;32m    182\u001b[0m \u001b[0;34m\u001b[0m\u001b[0m\n\u001b[1;32m    183\u001b[0m                 \u001b[0;32mif\u001b[0m \u001b[0;32mnot\u001b[0m \u001b[0mhasattr\u001b[0m\u001b[0;34m(\u001b[0m\u001b[0mgenerator_output\u001b[0m\u001b[0;34m,\u001b[0m \u001b[0;34m'__len__'\u001b[0m\u001b[0;34m)\u001b[0m\u001b[0;34m:\u001b[0m\u001b[0;34m\u001b[0m\u001b[0m\n",
      "\u001b[0;32m~/anaconda3/envs/kaggle/lib/python3.6/site-packages/keras/utils/data_utils.py\u001b[0m in \u001b[0;36mget\u001b[0;34m(self)\u001b[0m\n\u001b[1;32m    599\u001b[0m         \u001b[0;32mexcept\u001b[0m \u001b[0mException\u001b[0m \u001b[0;32mas\u001b[0m \u001b[0me\u001b[0m\u001b[0;34m:\u001b[0m\u001b[0;34m\u001b[0m\u001b[0m\n\u001b[1;32m    600\u001b[0m             \u001b[0mself\u001b[0m\u001b[0;34m.\u001b[0m\u001b[0mstop\u001b[0m\u001b[0;34m(\u001b[0m\u001b[0;34m)\u001b[0m\u001b[0;34m\u001b[0m\u001b[0m\n\u001b[0;32m--> 601\u001b[0;31m             \u001b[0msix\u001b[0m\u001b[0;34m.\u001b[0m\u001b[0mreraise\u001b[0m\u001b[0;34m(\u001b[0m\u001b[0;34m*\u001b[0m\u001b[0msys\u001b[0m\u001b[0;34m.\u001b[0m\u001b[0mexc_info\u001b[0m\u001b[0;34m(\u001b[0m\u001b[0;34m)\u001b[0m\u001b[0;34m)\u001b[0m\u001b[0;34m\u001b[0m\u001b[0m\n\u001b[0m\u001b[1;32m    602\u001b[0m \u001b[0;34m\u001b[0m\u001b[0m\n\u001b[1;32m    603\u001b[0m \u001b[0;34m\u001b[0m\u001b[0m\n",
      "\u001b[0;32m~/anaconda3/envs/kaggle/lib/python3.6/site-packages/six.py\u001b[0m in \u001b[0;36mreraise\u001b[0;34m(tp, value, tb)\u001b[0m\n\u001b[1;32m    691\u001b[0m             \u001b[0;32mif\u001b[0m \u001b[0mvalue\u001b[0m\u001b[0;34m.\u001b[0m\u001b[0m__traceback__\u001b[0m \u001b[0;32mis\u001b[0m \u001b[0;32mnot\u001b[0m \u001b[0mtb\u001b[0m\u001b[0;34m:\u001b[0m\u001b[0;34m\u001b[0m\u001b[0m\n\u001b[1;32m    692\u001b[0m                 \u001b[0;32mraise\u001b[0m \u001b[0mvalue\u001b[0m\u001b[0;34m.\u001b[0m\u001b[0mwith_traceback\u001b[0m\u001b[0;34m(\u001b[0m\u001b[0mtb\u001b[0m\u001b[0;34m)\u001b[0m\u001b[0;34m\u001b[0m\u001b[0m\n\u001b[0;32m--> 693\u001b[0;31m             \u001b[0;32mraise\u001b[0m \u001b[0mvalue\u001b[0m\u001b[0;34m\u001b[0m\u001b[0m\n\u001b[0m\u001b[1;32m    694\u001b[0m         \u001b[0;32mfinally\u001b[0m\u001b[0;34m:\u001b[0m\u001b[0;34m\u001b[0m\u001b[0m\n\u001b[1;32m    695\u001b[0m             \u001b[0mvalue\u001b[0m \u001b[0;34m=\u001b[0m \u001b[0;32mNone\u001b[0m\u001b[0;34m\u001b[0m\u001b[0m\n",
      "\u001b[0;32m~/anaconda3/envs/kaggle/lib/python3.6/site-packages/keras/utils/data_utils.py\u001b[0m in \u001b[0;36mget\u001b[0;34m(self)\u001b[0m\n\u001b[1;32m    593\u001b[0m         \u001b[0;32mtry\u001b[0m\u001b[0;34m:\u001b[0m\u001b[0;34m\u001b[0m\u001b[0m\n\u001b[1;32m    594\u001b[0m             \u001b[0;32mwhile\u001b[0m \u001b[0mself\u001b[0m\u001b[0;34m.\u001b[0m\u001b[0mis_running\u001b[0m\u001b[0;34m(\u001b[0m\u001b[0;34m)\u001b[0m\u001b[0;34m:\u001b[0m\u001b[0;34m\u001b[0m\u001b[0m\n\u001b[0;32m--> 595\u001b[0;31m                 \u001b[0minputs\u001b[0m \u001b[0;34m=\u001b[0m \u001b[0mself\u001b[0m\u001b[0;34m.\u001b[0m\u001b[0mqueue\u001b[0m\u001b[0;34m.\u001b[0m\u001b[0mget\u001b[0m\u001b[0;34m(\u001b[0m\u001b[0mblock\u001b[0m\u001b[0;34m=\u001b[0m\u001b[0;32mTrue\u001b[0m\u001b[0;34m)\u001b[0m\u001b[0;34m.\u001b[0m\u001b[0mget\u001b[0m\u001b[0;34m(\u001b[0m\u001b[0;34m)\u001b[0m\u001b[0;34m\u001b[0m\u001b[0m\n\u001b[0m\u001b[1;32m    596\u001b[0m                 \u001b[0mself\u001b[0m\u001b[0;34m.\u001b[0m\u001b[0mqueue\u001b[0m\u001b[0;34m.\u001b[0m\u001b[0mtask_done\u001b[0m\u001b[0;34m(\u001b[0m\u001b[0;34m)\u001b[0m\u001b[0;34m\u001b[0m\u001b[0m\n\u001b[1;32m    597\u001b[0m                 \u001b[0;32mif\u001b[0m \u001b[0minputs\u001b[0m \u001b[0;32mis\u001b[0m \u001b[0;32mnot\u001b[0m \u001b[0;32mNone\u001b[0m\u001b[0;34m:\u001b[0m\u001b[0;34m\u001b[0m\u001b[0m\n",
      "\u001b[0;32m~/anaconda3/envs/kaggle/lib/python3.6/multiprocessing/pool.py\u001b[0m in \u001b[0;36mget\u001b[0;34m(self, timeout)\u001b[0m\n\u001b[1;32m    642\u001b[0m             \u001b[0;32mreturn\u001b[0m \u001b[0mself\u001b[0m\u001b[0;34m.\u001b[0m\u001b[0m_value\u001b[0m\u001b[0;34m\u001b[0m\u001b[0m\n\u001b[1;32m    643\u001b[0m         \u001b[0;32melse\u001b[0m\u001b[0;34m:\u001b[0m\u001b[0;34m\u001b[0m\u001b[0m\n\u001b[0;32m--> 644\u001b[0;31m             \u001b[0;32mraise\u001b[0m \u001b[0mself\u001b[0m\u001b[0;34m.\u001b[0m\u001b[0m_value\u001b[0m\u001b[0;34m\u001b[0m\u001b[0m\n\u001b[0m\u001b[1;32m    645\u001b[0m \u001b[0;34m\u001b[0m\u001b[0m\n\u001b[1;32m    646\u001b[0m     \u001b[0;32mdef\u001b[0m \u001b[0m_set\u001b[0m\u001b[0;34m(\u001b[0m\u001b[0mself\u001b[0m\u001b[0;34m,\u001b[0m \u001b[0mi\u001b[0m\u001b[0;34m,\u001b[0m \u001b[0mobj\u001b[0m\u001b[0;34m)\u001b[0m\u001b[0;34m:\u001b[0m\u001b[0;34m\u001b[0m\u001b[0m\n",
      "\u001b[0;31mFileNotFoundError\u001b[0m: [Errno 2] No such file or directory: '/home/matt/repos/ohia.ai/data/filtered_plantnet/12807/337211.jpg'"
     ]
    }
   ],
   "source": [
    "# train model \n",
    "model = get_model(model_name, n_classes, n_hidden, dropout)\n",
    "model.fit_generator(\n",
    "    generator=train_generator,\n",
    "    validation_data=valid_generator,\n",
    "    callbacks=callbacks_list,\n",
    "    use_multiprocessing=True,\n",
    "    workers=n_thread,\n",
    "    epochs=100,    \n",
    ")"
   ]
  },
  {
   "cell_type": "code",
   "execution_count": null,
   "metadata": {},
   "outputs": [],
   "source": [
    "# save results\n",
    "results = pd.DataFrame(model.history.history)\n",
    "results.to_csv(f'{model_path}/results.csv', index=False)"
   ]
  },
  {
   "cell_type": "code",
   "execution_count": null,
   "metadata": {},
   "outputs": [],
   "source": [
    "# print best results\n",
    "print(results.iloc[results.val_top_3_accuracy.values.argmax()])"
   ]
  },
  {
   "cell_type": "code",
   "execution_count": null,
   "metadata": {},
   "outputs": [],
   "source": []
  }
 ],
 "metadata": {
  "kernelspec": {
   "display_name": "Python [default]",
   "language": "python",
   "name": "python3"
  },
  "language_info": {
   "codemirror_mode": {
    "name": "ipython",
    "version": 3
   },
   "file_extension": ".py",
   "mimetype": "text/x-python",
   "name": "python",
   "nbconvert_exporter": "python",
   "pygments_lexer": "ipython3",
   "version": "3.6.6"
  }
 },
 "nbformat": 4,
 "nbformat_minor": 2
}
